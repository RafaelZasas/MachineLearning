{
 "cells": [
  {
   "cell_type": "markdown",
   "metadata": {},
   "source": [
    "# HW due Feb 17"
   ]
  },
  {
   "cell_type": "code",
   "execution_count": null,
   "metadata": {
    "pycharm": {
     "is_executing": true
    }
   },
   "outputs": [],
   "source": [
    "import seaborn as sbn\n",
    "import numpy as np\n",
    "import sklearn as sk\n",
    "import pandas as pd\n",
    "import matplotlib.pyplot as plt"
   ]
  },
  {
   "cell_type": "code",
   "execution_count": null,
   "metadata": {
    "pycharm": {
     "is_executing": true
    }
   },
   "outputs": [],
   "source": [
    "# Here is a useful list of all the functions we have been using:\n",
    "from sklearn.pipeline import Pipeline\n",
    "from sklearn.preprocessing import StandardScaler\n",
    "from sklearn.preprocessing import PolynomialFeatures\n",
    "from sklearn.linear_model import LinearRegression\n",
    "from sklearn.model_selection import train_test_split\n",
    "from sklearn.metrics import mean_squared_error"
   ]
  },
  {
   "cell_type": "code",
   "execution_count": null,
   "metadata": {
    "pycharm": {
     "is_executing": true
    }
   },
   "outputs": [],
   "source": [
    "from sklearn.linear_model import Ridge"
   ]
  },
  {
   "cell_type": "code",
   "execution_count": null,
   "metadata": {
    "pycharm": {
     "is_executing": true
    }
   },
   "outputs": [],
   "source": [
    "from sklearn.linear_model import Lasso"
   ]
  },
  {
   "cell_type": "code",
   "execution_count": null,
   "metadata": {
    "pycharm": {
     "is_executing": true
    }
   },
   "outputs": [],
   "source": [
    "from sklearn.linear_model import ElasticNet"
   ]
  },
  {
   "cell_type": "markdown",
   "metadata": {},
   "source": [
    "### Now that we have learned so much more about machine learning and regression. Let's take another look at the Life Expectancy data and see if we can do a better job building the model."
   ]
  },
  {
   "cell_type": "code",
   "execution_count": null,
   "metadata": {
    "pycharm": {
     "is_executing": true
    }
   },
   "outputs": [],
   "source": [
    "# Import the data\n",
    "URL = 'http://facweb1.redlands.edu/fac/joanna_bieri/machinelearning/LifeExpectancyData.csv'\n",
    "df = pd.read_csv(URL)"
   ]
  },
  {
   "cell_type": "markdown",
   "metadata": {},
   "source": [
    "### Things you should do\n",
    "- Use seaborn to plot the data again and choose your features, except now you could consider features that have more of a polynomial shape if you want. Get to know the data!\n",
    "- For the features that you choose, clean up the data: remove false zeros, remove NA's, and if possible remove outliers.\n",
    "- Choose a model: Linear, Polynomial, Regularized, etc\n",
    "- Separate your data into training and validation sets\n",
    "- Train your model finding thetas and normalization parameters from the training set.\n",
    "- Test your model using the validation data set. This might include plotting learning curves and comparing the error (training vs validation) of different model assumptions. At this point you might have to go back and make some different choices.\n"
   ]
  },
  {
   "cell_type": "markdown",
   "metadata": {},
   "source": [
    "# IMPORTANT \n",
    "### For each step of this process you should BOTH comment your code expain what it is doing and add markdown cells in between code with your words in clear english saying why you are making the decisions you are making.\n",
    "\n",
    "Make sure to rationalize ALL of the decisions you are making. A fellow student in our class should be able to open your jupyter notebook and understand all of your code, steps, and decisions without needing to ask you any questions.\n",
    "\n",
    "- Please compare your results this time to what you did last time. How did you change your model? How did your results change?"
   ]
  },
  {
   "cell_type": "code",
   "execution_count": null,
   "metadata": {
    "pycharm": {
     "is_executing": true
    }
   },
   "outputs": [],
   "source": [
    "# FIRST ILL USE DESCRIBE TO GET AN UNDERSTANDING OF THE DATA\n",
    "\n",
    "df.describe()"
   ]
  },
  {
   "cell_type": "code",
   "execution_count": null,
   "metadata": {
    "pycharm": {
     "is_executing": true
    }
   },
   "outputs": [],
   "source": [
    "'''\n",
    "        GETTING RID OF THE STRINGS COLUMNS BEFORE USING SEABORNE HEAT MAP TO VISUALIZE CORRELATIONS \n",
    "'''\n",
    "df.drop('Country', axis=1, inplace=True) # drops the country attribute \n",
    "df.drop('Year', axis=1, inplace=True) # drops the year attribute \n",
    "df.drop('Status', axis=1, inplace=True) # drops the status \n",
    "\n",
    "# Visualizing correlation with Seaborn\n",
    "sbn.set(rc={'figure.figsize':(18,9)})\n",
    "sbn.heatmap(df.corr(), cmap=\"seismic\", annot=True, vmin=-1, vmax=1)\n"
   ]
  },
  {
   "cell_type": "code",
   "execution_count": null,
   "metadata": {
    "pycharm": {
     "is_executing": true
    }
   },
   "outputs": [],
   "source": [
    "'''\n",
    "        USING SEABORNE TO PLOT EACH FEATURE AGAINST EACH OTHER FEATURE SO I CAN SEE TRENDS  \n",
    "'''\n",
    "\n",
    "# Delete all rows that contain NaN or not numbers\n",
    "\n",
    "# Plot all of the variable-to-variable relations as scatterplots\n",
    "sbn.pairplot(df,size=2.5) \n",
    "\n",
    "# This should plot a different scatter plot for each pair of variables"
   ]
  }
 ],
 "metadata": {
  "kernelspec": {
   "display_name": "Python 3",
   "language": "python",
   "name": "python3"
  },
  "language_info": {
   "codemirror_mode": {
    "name": "ipython",
    "version": 3
   },
   "file_extension": ".py",
   "mimetype": "text/x-python",
   "name": "python",
   "nbconvert_exporter": "python",
   "pygments_lexer": "ipython3",
   "version": "3.6.5"
  },
  "nav_menu": {},
  "toc": {
   "navigate_menu": true,
   "number_sections": true,
   "sideBar": true,
   "threshold": 6,
   "toc_cell": false,
   "toc_section_display": "block",
   "toc_window_display": false
  },
  "pycharm": {
   "stem_cell": {
    "cell_type": "raw",
    "source": [],
    "metadata": {
     "collapsed": false
    }
   }
  }
 },
 "nbformat": 4,
 "nbformat_minor": 1
}
