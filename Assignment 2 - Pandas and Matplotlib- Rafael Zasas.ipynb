{
 "cells": [
  {
   "cell_type": "markdown",
   "metadata": {},
   "source": [
    "# Assignment due Jan 15 - Pandas Introduction\n",
    "All questions are weighted the same in this assignment.\n",
    "\n",
    "### For all questions write your own code and comments explaining what your code is doing.\n"
   ]
  },
  {
   "cell_type": "code",
   "execution_count": 56,
   "metadata": {
    "pycharm": {
     "is_executing": false
    }
   },
   "outputs": [],
   "source": []
  },
  {
   "cell_type": "code",
   "execution_count": 56,
   "metadata": {
    "pycharm": {
     "is_executing": false
    }
   },
   "outputs": [],
   "source": []
  },
  {
   "cell_type": "markdown",
   "metadata": {},
   "source": [
    "<H2> Question 1</H2>\n",
    "A DataFrame is started below. Follow the instructions below to change the DataFrame. Make sure to include comments for your work.\n",
    "<ol>\n",
    "    <li>\n",
    "Add three more rows, for food items for Day 3,4,5 using append and .loc at least once each. \n",
    "    </li><li>\n",
    "    Add a column for Snack with different snacks for each day.\n",
    "      </li><li> \n",
    "     Add a column for Beverage with the same beverage for each day.> \n",
    "     </li><li> Query the DataFrame to get a list of all breakfast items.\n",
    "    </li><li> Query the DataFrame to get a list of just Snacks and Beverage for Day 2.\n",
    "        </li><li> Change the Breakfast item in Day 1 from 'Cereal' to 'Omelet'\n",
    "     </li><li> Drop a row from the DataFrame (not permanently removing it).\n",
    "    </li><li> Drop the 'Lunch' column from the DataFrame (permanently removing it).\n",
    "    </li><li> Update the DataFrame to  add  \"and salad\" to an appropriate column. \n",
    "    </li><ol>\n",
    "    "
   ]
  },
  {
   "cell_type": "code",
   "execution_count": 57,
   "metadata": {
    "pycharm": {
     "is_executing": false
    }
   },
   "outputs": [
    {
     "data": {
      "text/plain": "      Breakfast     Lunch     Supper\nDay 1    Cereal  Sandwich      Tacos\nDay 2      Eggs  Sandwich  Hamburger",
      "text/html": "<div>\n<style scoped>\n    .dataframe tbody tr th:only-of-type {\n        vertical-align: middle;\n    }\n\n    .dataframe tbody tr th {\n        vertical-align: top;\n    }\n\n    .dataframe thead th {\n        text-align: right;\n    }\n</style>\n<table border=\"1\" class=\"dataframe\">\n  <thead>\n    <tr style=\"text-align: right;\">\n      <th></th>\n      <th>Breakfast</th>\n      <th>Lunch</th>\n      <th>Supper</th>\n    </tr>\n  </thead>\n  <tbody>\n    <tr>\n      <th>Day 1</th>\n      <td>Cereal</td>\n      <td>Sandwich</td>\n      <td>Tacos</td>\n    </tr>\n    <tr>\n      <th>Day 2</th>\n      <td>Eggs</td>\n      <td>Sandwich</td>\n      <td>Hamburger</td>\n    </tr>\n  </tbody>\n</table>\n</div>"
     },
     "metadata": {},
     "output_type": "execute_result",
     "execution_count": 57
    }
   ],
   "source": [
    "import pandas as pd\n",
    "dct1={'Breakfast':'Cereal','Lunch':'Sandwich','Supper':'Tacos'}\n",
    "dct2={'Breakfast':'Eggs','Lunch':'Sandwich','Supper':'Hamburger'}\n",
    "food_diary=pd.DataFrame([dct1,dct2],index=['Day 1','Day 2'])\n",
    "food_diary"
   ]
  },
  {
   "cell_type": "code",
   "execution_count": 58,
   "metadata": {
    "pycharm": {
     "is_executing": false
    }
   },
   "outputs": [
    {
     "data": {
      "text/plain": "Day 1       Cereal\nDay 2         Eggs\nDay 3         Oats\nDay 4          avo\nDay 5    Coco Pops\nName: Breakfast, dtype: object"
     },
     "metadata": {},
     "output_type": "execute_result",
     "execution_count": 58
    }
   ],
   "source": [
    "# creating a new data frame of one row with 3 cols and an index of day 3\n",
    "dct3 = pd.DataFrame({'Breakfast': 'Oats',\n",
    "                        'Lunch': 'Cat Chow',\n",
    "                        'Supper': \"Steak\"}, index=['Day 3'])\n",
    "\n",
    "#appending that dataframe of 1 row to the old one. have to set it equal to the .appended \n",
    "# to ensure the addition is permanent \n",
    "food_diary=food_diary.append(dct3)\n",
    "\n",
    "\n",
    "# adding the 4th days food \n",
    "dct4 = pd.DataFrame({'Breakfast': 'avo',\n",
    "                        'Lunch': 'sarmie',\n",
    "                        'Supper': \"pizza\"}, index=['Day 4'])\n",
    "food_diary=food_diary.append(dct4)\n",
    "\n",
    "\n",
    "# adding a row using .loc with key of day 5 and giving values for the 3 cols\n",
    "food_diary.loc['Day 5']= ['Coco Pops', 'Schnitzel', 'chicken']\n",
    "\n",
    "\n",
    "# adding a snacks col with different snacks for each day\n",
    "food_diary['snacks'] = [\"protein\",\"protein bar\",\"more protein\",\"carbs\",\"trail mix\"]\n",
    "\n",
    "#adding a drinks col with the same drink for every day\n",
    "food_diary['Drinks'] = \"water\"\n",
    "\n",
    "\n",
    "# getting all the breakfast items\n",
    "food_diary['Breakfast']"
   ]
  },
  {
   "cell_type": "code",
   "execution_count": 59,
   "metadata": {
    "pycharm": {
     "is_executing": false
    }
   },
   "outputs": [
    {
     "data": {
      "text/plain": "       Breakfast           Supper        snacks Drinks\nDay 1     Omelet            Tacos       protein  water\nDay 2       Eggs        Hamburger   protein bar  water\nDay 3       Oats            Steak  more protein  water\nDay 4        avo  pizza and salad         carbs  water\nDay 5  Coco Pops          chicken     trail mix  water",
      "text/html": "<div>\n<style scoped>\n    .dataframe tbody tr th:only-of-type {\n        vertical-align: middle;\n    }\n\n    .dataframe tbody tr th {\n        vertical-align: top;\n    }\n\n    .dataframe thead th {\n        text-align: right;\n    }\n</style>\n<table border=\"1\" class=\"dataframe\">\n  <thead>\n    <tr style=\"text-align: right;\">\n      <th></th>\n      <th>Breakfast</th>\n      <th>Supper</th>\n      <th>snacks</th>\n      <th>Drinks</th>\n    </tr>\n  </thead>\n  <tbody>\n    <tr>\n      <th>Day 1</th>\n      <td>Omelet</td>\n      <td>Tacos</td>\n      <td>protein</td>\n      <td>water</td>\n    </tr>\n    <tr>\n      <th>Day 2</th>\n      <td>Eggs</td>\n      <td>Hamburger</td>\n      <td>protein bar</td>\n      <td>water</td>\n    </tr>\n    <tr>\n      <th>Day 3</th>\n      <td>Oats</td>\n      <td>Steak</td>\n      <td>more protein</td>\n      <td>water</td>\n    </tr>\n    <tr>\n      <th>Day 4</th>\n      <td>avo</td>\n      <td>pizza and salad</td>\n      <td>carbs</td>\n      <td>water</td>\n    </tr>\n    <tr>\n      <th>Day 5</th>\n      <td>Coco Pops</td>\n      <td>chicken</td>\n      <td>trail mix</td>\n      <td>water</td>\n    </tr>\n  </tbody>\n</table>\n</div>"
     },
     "metadata": {},
     "output_type": "execute_result",
     "execution_count": 59
    }
   ],
   "source": [
    "# getting the snacks and drinks for only day 2. have to use the nested []\n",
    "food_diary.loc['Day 2',[ 'snacks','Drinks']]\n",
    "\n",
    "# changing the breakfast in day 1 from cereal to omelet \n",
    "food_diary.loc['Day 1','Breakfast']='Omelet'\n",
    "\n",
    "# dropping a row but only kinda. not really though\n",
    "food_diary.drop('Day 1')\n",
    "\n",
    "\n",
    "# Apparently we dont each lunch anymore so its gone forever now\n",
    "food_diary.drop(columns='Lunch',inplace=True)\n",
    "\n",
    "# I eat my pizza with salad i just forgot to add it \n",
    "food_diary.loc['Day 4','Supper']+=' and salad'\n",
    "food_diary"
   ]
  },
  {
   "cell_type": "markdown",
   "metadata": {},
   "source": [
    "## Question 2\n",
    "\n",
    "Create a DataFrame that records the number of hours you slept each day last week and the number of hours you studied each day last week. Index your DataFrame by ['Monday','Tuesday, etc]"
   ]
  },
  {
   "cell_type": "code",
   "execution_count": 60,
   "metadata": {
    "pycharm": {
     "is_executing": false
    }
   },
   "outputs": [
    {
     "data": {
      "text/plain": "           Hours slept  Hours studied\nMonday              10              5\nTuesday              5             10\nWednesday           15              2\nThursday             3             12\nFriday              20              0\nSaturday            22              0\nSunday              23              0",
      "text/html": "<div>\n<style scoped>\n    .dataframe tbody tr th:only-of-type {\n        vertical-align: middle;\n    }\n\n    .dataframe tbody tr th {\n        vertical-align: top;\n    }\n\n    .dataframe thead th {\n        text-align: right;\n    }\n</style>\n<table border=\"1\" class=\"dataframe\">\n  <thead>\n    <tr style=\"text-align: right;\">\n      <th></th>\n      <th>Hours slept</th>\n      <th>Hours studied</th>\n    </tr>\n  </thead>\n  <tbody>\n    <tr>\n      <th>Monday</th>\n      <td>10</td>\n      <td>5</td>\n    </tr>\n    <tr>\n      <th>Tuesday</th>\n      <td>5</td>\n      <td>10</td>\n    </tr>\n    <tr>\n      <th>Wednesday</th>\n      <td>15</td>\n      <td>2</td>\n    </tr>\n    <tr>\n      <th>Thursday</th>\n      <td>3</td>\n      <td>12</td>\n    </tr>\n    <tr>\n      <th>Friday</th>\n      <td>20</td>\n      <td>0</td>\n    </tr>\n    <tr>\n      <th>Saturday</th>\n      <td>22</td>\n      <td>0</td>\n    </tr>\n    <tr>\n      <th>Sunday</th>\n      <td>23</td>\n      <td>0</td>\n    </tr>\n  </tbody>\n</table>\n</div>"
     },
     "metadata": {},
     "output_type": "execute_result",
     "execution_count": 60
    }
   ],
   "source": [
    "# Make the dictionaries for each day with keys of hours slept and hours studied\n",
    "d1={\n",
    "    'Hours slept':10,\n",
    "    'Hours studied':5}\n",
    "\n",
    "d2={\n",
    "    'Hours slept':5,\n",
    "    'Hours studied':10}\n",
    "\n",
    "d3={\n",
    "    'Hours slept':15,\n",
    "    'Hours studied':2}\n",
    "\n",
    "d4={\n",
    "    'Hours slept':3,\n",
    "    'Hours studied':12}\n",
    "\n",
    "d5={\n",
    "    'Hours slept':20,\n",
    "    'Hours studied':0}\n",
    "d6={\n",
    "    'Hours slept':22,\n",
    "    'Hours studied':0}\n",
    "\n",
    "d7={\n",
    "    'Hours slept':23,\n",
    "    'Hours studied':0}\n",
    "\n",
    "# create a dataframe out of those dictionaries and give them indexes \n",
    "\n",
    "sleep_diary=pd.DataFrame([d1,d2,d3,d4,d5,d6,d7],\n",
    "                        index=['Monday','Tuesday','Wednesday','Thursday','Friday','Saturday','Sunday'])\n",
    "sleep_diary\n"
   ]
  },
  {
   "cell_type": "code",
   "execution_count": 60,
   "metadata": {
    "pycharm": {
     "is_executing": false
    }
   },
   "outputs": [],
   "source": []
  },
  {
   "cell_type": "markdown",
   "metadata": {},
   "source": [
    "## Question 3\n",
    "\n",
    "Create a scatter plot for number of hours of sleep (x-axis) versus the number of hours of studying (y-axis). "
   ]
  },
  {
   "cell_type": "code",
   "execution_count": 61,
   "metadata": {
    "pycharm": {
     "is_executing": false
    }
   },
   "outputs": [],
   "source": [
    "import matplotlib.pyplot as plt \n",
    "import numpy as np"
   ]
  },
  {
   "cell_type": "code",
   "execution_count": 62,
   "metadata": {
    "pycharm": {
     "is_executing": false
    }
   },
   "outputs": [
    {
     "data": {
      "text/plain": "<Figure size 432x288 with 1 Axes>",
      "image/png": "[encoded data removed]"
     },
     "metadata": {
      "needs_background": "light"
     },
     "output_type": "display_data"
    }
   ],
   "source": [
    "# x-axis values (sleeping hours)\n",
    "x = sleep_diary['Hours slept']\n",
    "  \n",
    "# Y-axis values (stu-dying hours)\n",
    "y = sleep_diary['Hours slept']\n",
    "  \n",
    "# Function to plot scatter \n",
    "plt.scatter(x, y) \n",
    "  \n",
    "# function to show the plot \n",
    "plt.show() \n",
    "\n"
   ]
  },
  {
   "cell_type": "markdown",
   "metadata": {},
   "source": [
    "## Question 4\n",
    "\n",
    "Create a bar plot for number of hours of studying last week \n"
   ]
  },
  {
   "cell_type": "code",
   "execution_count": 63,
   "metadata": {
    "pycharm": {
     "is_executing": false
    }
   },
   "outputs": [
    {
     "data": {
      "text/plain": "<Figure size 432x288 with 1 Axes>",
      "image/png": "[encoded data removed]"
     },
     "metadata": {
      "needs_background": "light"
     },
     "output_type": "display_data"
    }
   ],
   "source": [
    "\n",
    "## An accurate bar chart of how much I study. not really though\n",
    "HoursStudying=sleep_diary[\"Hours studied\"] # gets the hours studied\n",
    "Days=sleep_diary.index  # gets the days \n",
    "\n",
    "plt.bar(Days,HoursStudying,width=.8,color='blue')\n",
    "plt.title(\"How much do I really study\")\n",
    "plt.show()"
   ]
  },
  {
   "cell_type": "code",
   "execution_count": 63,
   "metadata": {
    "pycharm": {
     "is_executing": false
    }
   },
   "outputs": [],
   "source": []
  },
  {
   "cell_type": "markdown",
   "metadata": {},
   "source": [
    "\n",
    "## Part 2\n",
    "The following code loads the olympics dataset (olympics.csv), which was derrived from the Wikipedia entry on [All Time Olympic Games Medals](https://en.wikipedia.org/wiki/All-time_Olympic_Games_medal_table), and does some basic data cleaning. \n",
    "\n",
    "The columns are organized as # of Summer games, Summer medals, # of Winter games, Winter medals, total # number of games, total # of medals. Use this dataset to answer the questions below."
   ]
  },
  {
   "cell_type": "code",
   "execution_count": 64,
   "metadata": {
    "nbgrader": {
     "grade": false,
     "grade_id": "1",
     "locked": false,
     "solution": false
    },
    "umich_question": "prolog-000",
    "pycharm": {
     "is_executing": false
    }
   },
   "outputs": [
    {
     "data": {
      "text/plain": "                           # Summer  Gold  Silver  Bronze  Total  # Winter  \\\nAfghanistan (AFG)                13     0       0       2      2         0   \nAlgeria (ALG)                    12     5       2       8     15         3   \nArgentina (ARG)                  23    18      24      28     70        18   \nArmenia (ARM)                     5     1       2       9     12         6   \nAustralasia (ANZ) [ANZ]           2     3       4       5     12         0   \nAustralia (AUS) [AUS] [Z]        25   139     152     177    468        18   \nAustria (AUT)                    26    18      33      35     86        22   \nAzerbaijan (AZE)                  5     6       5      15     26         5   \nBahamas (BAH)                    15     5       2       5     12         0   \nBahrain (BRN)                     8     0       0       1      1         0   \n\n                           Gold.1  Silver.1  Bronze.1  Total.1  # Games  \\\nAfghanistan (AFG)               0         0         0        0       13   \nAlgeria (ALG)                   0         0         0        0       15   \nArgentina (ARG)                 0         0         0        0       41   \nArmenia (ARM)                   0         0         0        0       11   \nAustralasia (ANZ) [ANZ]         0         0         0        0        2   \nAustralia (AUS) [AUS] [Z]       5         3         4       12       43   \nAustria (AUT)                  59        78        81      218       48   \nAzerbaijan (AZE)                0         0         0        0       10   \nBahamas (BAH)                   0         0         0        0       15   \nBahrain (BRN)                   0         0         0        0        8   \n\n                           Gold.2  Silver.2  Bronze.2  Combined total  \nAfghanistan (AFG)               0         0         2               2  \nAlgeria (ALG)                   5         2         8              15  \nArgentina (ARG)                18        24        28              70  \nArmenia (ARM)                   1         2         9              12  \nAustralasia (ANZ) [ANZ]         3         4         5              12  \nAustralia (AUS) [AUS] [Z]     144       155       181             480  \nAustria (AUT)                  77       111       116             304  \nAzerbaijan (AZE)                6         5        15              26  \nBahamas (BAH)                   5         2         5              12  \nBahrain (BRN)                   0         0         1               1  ",
      "text/html": "<div>\n<style scoped>\n    .dataframe tbody tr th:only-of-type {\n        vertical-align: middle;\n    }\n\n    .dataframe tbody tr th {\n        vertical-align: top;\n    }\n\n    .dataframe thead th {\n        text-align: right;\n    }\n</style>\n<table border=\"1\" class=\"dataframe\">\n  <thead>\n    <tr style=\"text-align: right;\">\n      <th></th>\n      <th># Summer</th>\n      <th>Gold</th>\n      <th>Silver</th>\n      <th>Bronze</th>\n      <th>Total</th>\n      <th># Winter</th>\n      <th>Gold.1</th>\n      <th>Silver.1</th>\n      <th>Bronze.1</th>\n      <th>Total.1</th>\n      <th># Games</th>\n      <th>Gold.2</th>\n      <th>Silver.2</th>\n      <th>Bronze.2</th>\n      <th>Combined total</th>\n    </tr>\n  </thead>\n  <tbody>\n    <tr>\n      <th>Afghanistan (AFG)</th>\n      <td>13</td>\n      <td>0</td>\n      <td>0</td>\n      <td>2</td>\n      <td>2</td>\n      <td>0</td>\n      <td>0</td>\n      <td>0</td>\n      <td>0</td>\n      <td>0</td>\n      <td>13</td>\n      <td>0</td>\n      <td>0</td>\n      <td>2</td>\n      <td>2</td>\n    </tr>\n    <tr>\n      <th>Algeria (ALG)</th>\n      <td>12</td>\n      <td>5</td>\n      <td>2</td>\n      <td>8</td>\n      <td>15</td>\n      <td>3</td>\n      <td>0</td>\n      <td>0</td>\n      <td>0</td>\n      <td>0</td>\n      <td>15</td>\n      <td>5</td>\n      <td>2</td>\n      <td>8</td>\n      <td>15</td>\n    </tr>\n    <tr>\n      <th>Argentina (ARG)</th>\n      <td>23</td>\n      <td>18</td>\n      <td>24</td>\n      <td>28</td>\n      <td>70</td>\n      <td>18</td>\n      <td>0</td>\n      <td>0</td>\n      <td>0</td>\n      <td>0</td>\n      <td>41</td>\n      <td>18</td>\n      <td>24</td>\n      <td>28</td>\n      <td>70</td>\n    </tr>\n    <tr>\n      <th>Armenia (ARM)</th>\n      <td>5</td>\n      <td>1</td>\n      <td>2</td>\n      <td>9</td>\n      <td>12</td>\n      <td>6</td>\n      <td>0</td>\n      <td>0</td>\n      <td>0</td>\n      <td>0</td>\n      <td>11</td>\n      <td>1</td>\n      <td>2</td>\n      <td>9</td>\n      <td>12</td>\n    </tr>\n    <tr>\n      <th>Australasia (ANZ) [ANZ]</th>\n      <td>2</td>\n      <td>3</td>\n      <td>4</td>\n      <td>5</td>\n      <td>12</td>\n      <td>0</td>\n      <td>0</td>\n      <td>0</td>\n      <td>0</td>\n      <td>0</td>\n      <td>2</td>\n      <td>3</td>\n      <td>4</td>\n      <td>5</td>\n      <td>12</td>\n    </tr>\n    <tr>\n      <th>Australia (AUS) [AUS] [Z]</th>\n      <td>25</td>\n      <td>139</td>\n      <td>152</td>\n      <td>177</td>\n      <td>468</td>\n      <td>18</td>\n      <td>5</td>\n      <td>3</td>\n      <td>4</td>\n      <td>12</td>\n      <td>43</td>\n      <td>144</td>\n      <td>155</td>\n      <td>181</td>\n      <td>480</td>\n    </tr>\n    <tr>\n      <th>Austria (AUT)</th>\n      <td>26</td>\n      <td>18</td>\n      <td>33</td>\n      <td>35</td>\n      <td>86</td>\n      <td>22</td>\n      <td>59</td>\n      <td>78</td>\n      <td>81</td>\n      <td>218</td>\n      <td>48</td>\n      <td>77</td>\n      <td>111</td>\n      <td>116</td>\n      <td>304</td>\n    </tr>\n    <tr>\n      <th>Azerbaijan (AZE)</th>\n      <td>5</td>\n      <td>6</td>\n      <td>5</td>\n      <td>15</td>\n      <td>26</td>\n      <td>5</td>\n      <td>0</td>\n      <td>0</td>\n      <td>0</td>\n      <td>0</td>\n      <td>10</td>\n      <td>6</td>\n      <td>5</td>\n      <td>15</td>\n      <td>26</td>\n    </tr>\n    <tr>\n      <th>Bahamas (BAH)</th>\n      <td>15</td>\n      <td>5</td>\n      <td>2</td>\n      <td>5</td>\n      <td>12</td>\n      <td>0</td>\n      <td>0</td>\n      <td>0</td>\n      <td>0</td>\n      <td>0</td>\n      <td>15</td>\n      <td>5</td>\n      <td>2</td>\n      <td>5</td>\n      <td>12</td>\n    </tr>\n    <tr>\n      <th>Bahrain (BRN)</th>\n      <td>8</td>\n      <td>0</td>\n      <td>0</td>\n      <td>1</td>\n      <td>1</td>\n      <td>0</td>\n      <td>0</td>\n      <td>0</td>\n      <td>0</td>\n      <td>0</td>\n      <td>8</td>\n      <td>0</td>\n      <td>0</td>\n      <td>1</td>\n      <td>1</td>\n    </tr>\n  </tbody>\n</table>\n</div>"
     },
     "metadata": {},
     "output_type": "execute_result",
     "execution_count": 64
    }
   ],
   "source": [
    "url='http://facweb1.redlands.edu/fac/Tamara_Veenstra/ML/olympics.csv'\n",
    "df = pd.read_csv(url, index_col=0, skiprows=1)\n",
    "\n",
    "for col in df.columns:\n",
    "    if col[:2]=='01':\n",
    "        df.rename(columns={col:'Gold'+col[4:]}, inplace=True)\n",
    "    if col[:2]=='02':\n",
    "        df.rename(columns={col:'Silver'+col[4:]}, inplace=True)\n",
    "    if col[:2]=='03':\n",
    "        df.rename(columns={col:'Bronze'+col[4:]}, inplace=True)\n",
    "    if col[:1]=='№':\n",
    "        df.rename(columns={col:'#'+col[1:]}, inplace=True)\n",
    "        \n",
    "df.drop('Totals', inplace=True)\n",
    "\n",
    "df.head(10)"
   ]
  },
  {
   "cell_type": "code",
   "execution_count": 64,
   "metadata": {
    "pycharm": {
     "is_executing": false
    }
   },
   "outputs": [],
   "source": []
  },
  {
   "cell_type": "markdown",
   "metadata": {},
   "source": [
    "## Question 5 \n",
    "\n",
    "Explain what the line  \"df.drop('Totals', inplace=True)\" is doing in above data pre-processing.\n"
   ]
  },
  {
   "cell_type": "code",
   "execution_count": 65,
   "metadata": {
    "umich_question": "000",
    "pycharm": {
     "is_executing": false
    }
   },
   "outputs": [],
   "source": [
    "# It permanently removes the column Totals from the dataset "
   ]
  },
  {
   "cell_type": "markdown",
   "metadata": {},
   "source": [
    "## Question 6\n",
    "\n",
    "Create a DataFrame for countries that have won no gold medals (winter or summer) but have won a silver medal (in either summer or winter).  How many such countries are there?\n"
   ]
  },
  {
   "cell_type": "code",
   "execution_count": 77,
   "metadata": {
    "nbgrader": {
     "grade": false,
     "locked": false,
     "solution": false
    },
    "umich_part_id": "001",
    "umich_partlist_id": "001",
    "pycharm": {
     "is_executing": false
    }
   },
   "outputs": [
    {
     "data": {
      "text/plain": "                                              # Summer  Gold  Silver  Bronze  \\\nBohemia (BOH) [BOH] [Z]                              3     0       1       3   \nBotswana (BOT)                                       9     0       1       0   \nIvory Coast (CIV) [CIV]                             12     0       1       0   \nCyprus (CYP)                                         9     0       1       0   \nGabon (GAB)                                          9     0       1       0   \nGhana (GHA) [GHA]                                   13     0       1       3   \nGuatemala (GUA)                                     13     0       1       0   \nHaiti (HAI) [J]                                     14     0       1       1   \nIceland (ISL)                                       19     0       2       2   \nKyrgyzstan (KGZ)                                     5     0       1       2   \nLebanon (LIB)                                       16     0       2       2   \nMalaysia (MAS) [MAS]                                12     0       3       3   \nMoldova (MDA)                                        5     0       2       5   \nMontenegro (MNE)                                     2     0       1       0   \nNamibia (NAM)                                        6     0       4       0   \nNetherlands Antilles (AHO) [AHO] [I]                13     0       1       0   \nParaguay (PAR)                                      11     0       1       0   \nPhilippines (PHI)                                   20     0       2       7   \nPuerto Rico (PUR)                                   17     0       2       6   \nSaudi Arabia (KSA)                                  10     0       1       2   \nSenegal (SEN)                                       13     0       1       0   \nSingapore (SIN)                                     15     0       2       2   \nSri Lanka (SRI) [SRI]                               16     0       2       0   \nSudan (SUD)                                         11     0       1       0   \nTajikistan (TJK)                                     5     0       1       2   \nTanzania (TAN) [TAN]                                12     0       2       0   \nTonga (TGA)                                          8     0       1       0   \nVietnam (VIE)                                       14     0       2       0   \nVirgin Islands (ISV)                                11     0       1       0   \nIndependent Olympic Participants (IOP) [IOP]         1     0       1       2   \nZambia (ZAM) [ZAM]                                  12     0       1       1   \n\n                                              Total  # Winter  Gold.1  \\\nBohemia (BOH) [BOH] [Z]                           4         0       0   \nBotswana (BOT)                                    1         0       0   \nIvory Coast (CIV) [CIV]                           1         0       0   \nCyprus (CYP)                                      1        10       0   \nGabon (GAB)                                       1         0       0   \nGhana (GHA) [GHA]                                 4         1       0   \nGuatemala (GUA)                                   1         1       0   \nHaiti (HAI) [J]                                   2         0       0   \nIceland (ISL)                                     4        17       0   \nKyrgyzstan (KGZ)                                  3         6       0   \nLebanon (LIB)                                     4        16       0   \nMalaysia (MAS) [MAS]                              6         0       0   \nMoldova (MDA)                                     7         6       0   \nMontenegro (MNE)                                  1         2       0   \nNamibia (NAM)                                     4         0       0   \nNetherlands Antilles (AHO) [AHO] [I]              1         2       0   \nParaguay (PAR)                                    1         1       0   \nPhilippines (PHI)                                 9         4       0   \nPuerto Rico (PUR)                                 8         6       0   \nSaudi Arabia (KSA)                                3         0       0   \nSenegal (SEN)                                     1         5       0   \nSingapore (SIN)                                   4         0       0   \nSri Lanka (SRI) [SRI]                             2         0       0   \nSudan (SUD)                                       1         0       0   \nTajikistan (TJK)                                  3         4       0   \nTanzania (TAN) [TAN]                              2         0       0   \nTonga (TGA)                                       1         1       0   \nVietnam (VIE)                                     2         0       0   \nVirgin Islands (ISV)                              1         7       0   \nIndependent Olympic Participants (IOP) [IOP]      3         0       0   \nZambia (ZAM) [ZAM]                                2         0       0   \n\n                                              Silver.1  Bronze.1  Total.1  \\\nBohemia (BOH) [BOH] [Z]                              0         0        0   \nBotswana (BOT)                                       0         0        0   \nIvory Coast (CIV) [CIV]                              0         0        0   \nCyprus (CYP)                                         0         0        0   \nGabon (GAB)                                          0         0        0   \nGhana (GHA) [GHA]                                    0         0        0   \nGuatemala (GUA)                                      0         0        0   \nHaiti (HAI) [J]                                      0         0        0   \nIceland (ISL)                                        0         0        0   \nKyrgyzstan (KGZ)                                     0         0        0   \nLebanon (LIB)                                        0         0        0   \nMalaysia (MAS) [MAS]                                 0         0        0   \nMoldova (MDA)                                        0         0        0   \nMontenegro (MNE)                                     0         0        0   \nNamibia (NAM)                                        0         0        0   \nNetherlands Antilles (AHO) [AHO] [I]                 0         0        0   \nParaguay (PAR)                                       0         0        0   \nPhilippines (PHI)                                    0         0        0   \nPuerto Rico (PUR)                                    0         0        0   \nSaudi Arabia (KSA)                                   0         0        0   \nSenegal (SEN)                                        0         0        0   \nSingapore (SIN)                                      0         0        0   \nSri Lanka (SRI) [SRI]                                0         0        0   \nSudan (SUD)                                          0         0        0   \nTajikistan (TJK)                                     0         0        0   \nTanzania (TAN) [TAN]                                 0         0        0   \nTonga (TGA)                                          0         0        0   \nVietnam (VIE)                                        0         0        0   \nVirgin Islands (ISV)                                 0         0        0   \nIndependent Olympic Participants (IOP) [IOP]         0         0        0   \nZambia (ZAM) [ZAM]                                   0         0        0   \n\n                                              # Games  Gold.2  Silver.2  \\\nBohemia (BOH) [BOH] [Z]                             3       0         1   \nBotswana (BOT)                                      9       0         1   \nIvory Coast (CIV) [CIV]                            12       0         1   \nCyprus (CYP)                                       19       0         1   \nGabon (GAB)                                         9       0         1   \nGhana (GHA) [GHA]                                  14       0         1   \nGuatemala (GUA)                                    14       0         1   \nHaiti (HAI) [J]                                    14       0         1   \nIceland (ISL)                                      36       0         2   \nKyrgyzstan (KGZ)                                   11       0         1   \nLebanon (LIB)                                      32       0         2   \nMalaysia (MAS) [MAS]                               12       0         3   \nMoldova (MDA)                                      11       0         2   \nMontenegro (MNE)                                    4       0         1   \nNamibia (NAM)                                       6       0         4   \nNetherlands Antilles (AHO) [AHO] [I]               15       0         1   \nParaguay (PAR)                                     12       0         1   \nPhilippines (PHI)                                  24       0         2   \nPuerto Rico (PUR)                                  23       0         2   \nSaudi Arabia (KSA)                                 10       0         1   \nSenegal (SEN)                                      18       0         1   \nSingapore (SIN)                                    15       0         2   \nSri Lanka (SRI) [SRI]                              16       0         2   \nSudan (SUD)                                        11       0         1   \nTajikistan (TJK)                                    9       0         1   \nTanzania (TAN) [TAN]                               12       0         2   \nTonga (TGA)                                         9       0         1   \nVietnam (VIE)                                      14       0         2   \nVirgin Islands (ISV)                               18       0         1   \nIndependent Olympic Participants (IOP) [IOP]        1       0         1   \nZambia (ZAM) [ZAM]                                 12       0         1   \n\n                                              Bronze.2  Combined total  \nBohemia (BOH) [BOH] [Z]                              3               4  \nBotswana (BOT)                                       0               1  \nIvory Coast (CIV) [CIV]                              0               1  \nCyprus (CYP)                                         0               1  \nGabon (GAB)                                          0               1  \nGhana (GHA) [GHA]                                    3               4  \nGuatemala (GUA)                                      0               1  \nHaiti (HAI) [J]                                      1               2  \nIceland (ISL)                                        2               4  \nKyrgyzstan (KGZ)                                     2               3  \nLebanon (LIB)                                        2               4  \nMalaysia (MAS) [MAS]                                 3               6  \nMoldova (MDA)                                        5               7  \nMontenegro (MNE)                                     0               1  \nNamibia (NAM)                                        0               4  \nNetherlands Antilles (AHO) [AHO] [I]                 0               1  \nParaguay (PAR)                                       0               1  \nPhilippines (PHI)                                    7               9  \nPuerto Rico (PUR)                                    6               8  \nSaudi Arabia (KSA)                                   2               3  \nSenegal (SEN)                                        0               1  \nSingapore (SIN)                                      2               4  \nSri Lanka (SRI) [SRI]                                0               2  \nSudan (SUD)                                          0               1  \nTajikistan (TJK)                                     2               3  \nTanzania (TAN) [TAN]                                 0               2  \nTonga (TGA)                                          0               1  \nVietnam (VIE)                                        0               2  \nVirgin Islands (ISV)                                 0               1  \nIndependent Olympic Participants (IOP) [IOP]         2               3  \nZambia (ZAM) [ZAM]                                   1               2  ",
      "text/html": "<div>\n<style scoped>\n    .dataframe tbody tr th:only-of-type {\n        vertical-align: middle;\n    }\n\n    .dataframe tbody tr th {\n        vertical-align: top;\n    }\n\n    .dataframe thead th {\n        text-align: right;\n    }\n</style>\n<table border=\"1\" class=\"dataframe\">\n  <thead>\n    <tr style=\"text-align: right;\">\n      <th></th>\n      <th># Summer</th>\n      <th>Gold</th>\n      <th>Silver</th>\n      <th>Bronze</th>\n      <th>Total</th>\n      <th># Winter</th>\n      <th>Gold.1</th>\n      <th>Silver.1</th>\n      <th>Bronze.1</th>\n      <th>Total.1</th>\n      <th># Games</th>\n      <th>Gold.2</th>\n      <th>Silver.2</th>\n      <th>Bronze.2</th>\n      <th>Combined total</th>\n    </tr>\n  </thead>\n  <tbody>\n    <tr>\n      <th>Bohemia (BOH) [BOH] [Z]</th>\n      <td>3</td>\n      <td>0</td>\n      <td>1</td>\n      <td>3</td>\n      <td>4</td>\n      <td>0</td>\n      <td>0</td>\n      <td>0</td>\n      <td>0</td>\n      <td>0</td>\n      <td>3</td>\n      <td>0</td>\n      <td>1</td>\n      <td>3</td>\n      <td>4</td>\n    </tr>\n    <tr>\n      <th>Botswana (BOT)</th>\n      <td>9</td>\n      <td>0</td>\n      <td>1</td>\n      <td>0</td>\n      <td>1</td>\n      <td>0</td>\n      <td>0</td>\n      <td>0</td>\n      <td>0</td>\n      <td>0</td>\n      <td>9</td>\n      <td>0</td>\n      <td>1</td>\n      <td>0</td>\n      <td>1</td>\n    </tr>\n    <tr>\n      <th>Ivory Coast (CIV) [CIV]</th>\n      <td>12</td>\n      <td>0</td>\n      <td>1</td>\n      <td>0</td>\n      <td>1</td>\n      <td>0</td>\n      <td>0</td>\n      <td>0</td>\n      <td>0</td>\n      <td>0</td>\n      <td>12</td>\n      <td>0</td>\n      <td>1</td>\n      <td>0</td>\n      <td>1</td>\n    </tr>\n    <tr>\n      <th>Cyprus (CYP)</th>\n      <td>9</td>\n      <td>0</td>\n      <td>1</td>\n      <td>0</td>\n      <td>1</td>\n      <td>10</td>\n      <td>0</td>\n      <td>0</td>\n      <td>0</td>\n      <td>0</td>\n      <td>19</td>\n      <td>0</td>\n      <td>1</td>\n      <td>0</td>\n      <td>1</td>\n    </tr>\n    <tr>\n      <th>Gabon (GAB)</th>\n      <td>9</td>\n      <td>0</td>\n      <td>1</td>\n      <td>0</td>\n      <td>1</td>\n      <td>0</td>\n      <td>0</td>\n      <td>0</td>\n      <td>0</td>\n      <td>0</td>\n      <td>9</td>\n      <td>0</td>\n      <td>1</td>\n      <td>0</td>\n      <td>1</td>\n    </tr>\n    <tr>\n      <th>Ghana (GHA) [GHA]</th>\n      <td>13</td>\n      <td>0</td>\n      <td>1</td>\n      <td>3</td>\n      <td>4</td>\n      <td>1</td>\n      <td>0</td>\n      <td>0</td>\n      <td>0</td>\n      <td>0</td>\n      <td>14</td>\n      <td>0</td>\n      <td>1</td>\n      <td>3</td>\n      <td>4</td>\n    </tr>\n    <tr>\n      <th>Guatemala (GUA)</th>\n      <td>13</td>\n      <td>0</td>\n      <td>1</td>\n      <td>0</td>\n      <td>1</td>\n      <td>1</td>\n      <td>0</td>\n      <td>0</td>\n      <td>0</td>\n      <td>0</td>\n      <td>14</td>\n      <td>0</td>\n      <td>1</td>\n      <td>0</td>\n      <td>1</td>\n    </tr>\n    <tr>\n      <th>Haiti (HAI) [J]</th>\n      <td>14</td>\n      <td>0</td>\n      <td>1</td>\n      <td>1</td>\n      <td>2</td>\n      <td>0</td>\n      <td>0</td>\n      <td>0</td>\n      <td>0</td>\n      <td>0</td>\n      <td>14</td>\n      <td>0</td>\n      <td>1</td>\n      <td>1</td>\n      <td>2</td>\n    </tr>\n    <tr>\n      <th>Iceland (ISL)</th>\n      <td>19</td>\n      <td>0</td>\n      <td>2</td>\n      <td>2</td>\n      <td>4</td>\n      <td>17</td>\n      <td>0</td>\n      <td>0</td>\n      <td>0</td>\n      <td>0</td>\n      <td>36</td>\n      <td>0</td>\n      <td>2</td>\n      <td>2</td>\n      <td>4</td>\n    </tr>\n    <tr>\n      <th>Kyrgyzstan (KGZ)</th>\n      <td>5</td>\n      <td>0</td>\n      <td>1</td>\n      <td>2</td>\n      <td>3</td>\n      <td>6</td>\n      <td>0</td>\n      <td>0</td>\n      <td>0</td>\n      <td>0</td>\n      <td>11</td>\n      <td>0</td>\n      <td>1</td>\n      <td>2</td>\n      <td>3</td>\n    </tr>\n    <tr>\n      <th>Lebanon (LIB)</th>\n      <td>16</td>\n      <td>0</td>\n      <td>2</td>\n      <td>2</td>\n      <td>4</td>\n      <td>16</td>\n      <td>0</td>\n      <td>0</td>\n      <td>0</td>\n      <td>0</td>\n      <td>32</td>\n      <td>0</td>\n      <td>2</td>\n      <td>2</td>\n      <td>4</td>\n    </tr>\n    <tr>\n      <th>Malaysia (MAS) [MAS]</th>\n      <td>12</td>\n      <td>0</td>\n      <td>3</td>\n      <td>3</td>\n      <td>6</td>\n      <td>0</td>\n      <td>0</td>\n      <td>0</td>\n      <td>0</td>\n      <td>0</td>\n      <td>12</td>\n      <td>0</td>\n      <td>3</td>\n      <td>3</td>\n      <td>6</td>\n    </tr>\n    <tr>\n      <th>Moldova (MDA)</th>\n      <td>5</td>\n      <td>0</td>\n      <td>2</td>\n      <td>5</td>\n      <td>7</td>\n      <td>6</td>\n      <td>0</td>\n      <td>0</td>\n      <td>0</td>\n      <td>0</td>\n      <td>11</td>\n      <td>0</td>\n      <td>2</td>\n      <td>5</td>\n      <td>7</td>\n    </tr>\n    <tr>\n      <th>Montenegro (MNE)</th>\n      <td>2</td>\n      <td>0</td>\n      <td>1</td>\n      <td>0</td>\n      <td>1</td>\n      <td>2</td>\n      <td>0</td>\n      <td>0</td>\n      <td>0</td>\n      <td>0</td>\n      <td>4</td>\n      <td>0</td>\n      <td>1</td>\n      <td>0</td>\n      <td>1</td>\n    </tr>\n    <tr>\n      <th>Namibia (NAM)</th>\n      <td>6</td>\n      <td>0</td>\n      <td>4</td>\n      <td>0</td>\n      <td>4</td>\n      <td>0</td>\n      <td>0</td>\n      <td>0</td>\n      <td>0</td>\n      <td>0</td>\n      <td>6</td>\n      <td>0</td>\n      <td>4</td>\n      <td>0</td>\n      <td>4</td>\n    </tr>\n    <tr>\n      <th>Netherlands Antilles (AHO) [AHO] [I]</th>\n      <td>13</td>\n      <td>0</td>\n      <td>1</td>\n      <td>0</td>\n      <td>1</td>\n      <td>2</td>\n      <td>0</td>\n      <td>0</td>\n      <td>0</td>\n      <td>0</td>\n      <td>15</td>\n      <td>0</td>\n      <td>1</td>\n      <td>0</td>\n      <td>1</td>\n    </tr>\n    <tr>\n      <th>Paraguay (PAR)</th>\n      <td>11</td>\n      <td>0</td>\n      <td>1</td>\n      <td>0</td>\n      <td>1</td>\n      <td>1</td>\n      <td>0</td>\n      <td>0</td>\n      <td>0</td>\n      <td>0</td>\n      <td>12</td>\n      <td>0</td>\n      <td>1</td>\n      <td>0</td>\n      <td>1</td>\n    </tr>\n    <tr>\n      <th>Philippines (PHI)</th>\n      <td>20</td>\n      <td>0</td>\n      <td>2</td>\n      <td>7</td>\n      <td>9</td>\n      <td>4</td>\n      <td>0</td>\n      <td>0</td>\n      <td>0</td>\n      <td>0</td>\n      <td>24</td>\n      <td>0</td>\n      <td>2</td>\n      <td>7</td>\n      <td>9</td>\n    </tr>\n    <tr>\n      <th>Puerto Rico (PUR)</th>\n      <td>17</td>\n      <td>0</td>\n      <td>2</td>\n      <td>6</td>\n      <td>8</td>\n      <td>6</td>\n      <td>0</td>\n      <td>0</td>\n      <td>0</td>\n      <td>0</td>\n      <td>23</td>\n      <td>0</td>\n      <td>2</td>\n      <td>6</td>\n      <td>8</td>\n    </tr>\n    <tr>\n      <th>Saudi Arabia (KSA)</th>\n      <td>10</td>\n      <td>0</td>\n      <td>1</td>\n      <td>2</td>\n      <td>3</td>\n      <td>0</td>\n      <td>0</td>\n      <td>0</td>\n      <td>0</td>\n      <td>0</td>\n      <td>10</td>\n      <td>0</td>\n      <td>1</td>\n      <td>2</td>\n      <td>3</td>\n    </tr>\n    <tr>\n      <th>Senegal (SEN)</th>\n      <td>13</td>\n      <td>0</td>\n      <td>1</td>\n      <td>0</td>\n      <td>1</td>\n      <td>5</td>\n      <td>0</td>\n      <td>0</td>\n      <td>0</td>\n      <td>0</td>\n      <td>18</td>\n      <td>0</td>\n      <td>1</td>\n      <td>0</td>\n      <td>1</td>\n    </tr>\n    <tr>\n      <th>Singapore (SIN)</th>\n      <td>15</td>\n      <td>0</td>\n      <td>2</td>\n      <td>2</td>\n      <td>4</td>\n      <td>0</td>\n      <td>0</td>\n      <td>0</td>\n      <td>0</td>\n      <td>0</td>\n      <td>15</td>\n      <td>0</td>\n      <td>2</td>\n      <td>2</td>\n      <td>4</td>\n    </tr>\n    <tr>\n      <th>Sri Lanka (SRI) [SRI]</th>\n      <td>16</td>\n      <td>0</td>\n      <td>2</td>\n      <td>0</td>\n      <td>2</td>\n      <td>0</td>\n      <td>0</td>\n      <td>0</td>\n      <td>0</td>\n      <td>0</td>\n      <td>16</td>\n      <td>0</td>\n      <td>2</td>\n      <td>0</td>\n      <td>2</td>\n    </tr>\n    <tr>\n      <th>Sudan (SUD)</th>\n      <td>11</td>\n      <td>0</td>\n      <td>1</td>\n      <td>0</td>\n      <td>1</td>\n      <td>0</td>\n      <td>0</td>\n      <td>0</td>\n      <td>0</td>\n      <td>0</td>\n      <td>11</td>\n      <td>0</td>\n      <td>1</td>\n      <td>0</td>\n      <td>1</td>\n    </tr>\n    <tr>\n      <th>Tajikistan (TJK)</th>\n      <td>5</td>\n      <td>0</td>\n      <td>1</td>\n      <td>2</td>\n      <td>3</td>\n      <td>4</td>\n      <td>0</td>\n      <td>0</td>\n      <td>0</td>\n      <td>0</td>\n      <td>9</td>\n      <td>0</td>\n      <td>1</td>\n      <td>2</td>\n      <td>3</td>\n    </tr>\n    <tr>\n      <th>Tanzania (TAN) [TAN]</th>\n      <td>12</td>\n      <td>0</td>\n      <td>2</td>\n      <td>0</td>\n      <td>2</td>\n      <td>0</td>\n      <td>0</td>\n      <td>0</td>\n      <td>0</td>\n      <td>0</td>\n      <td>12</td>\n      <td>0</td>\n      <td>2</td>\n      <td>0</td>\n      <td>2</td>\n    </tr>\n    <tr>\n      <th>Tonga (TGA)</th>\n      <td>8</td>\n      <td>0</td>\n      <td>1</td>\n      <td>0</td>\n      <td>1</td>\n      <td>1</td>\n      <td>0</td>\n      <td>0</td>\n      <td>0</td>\n      <td>0</td>\n      <td>9</td>\n      <td>0</td>\n      <td>1</td>\n      <td>0</td>\n      <td>1</td>\n    </tr>\n    <tr>\n      <th>Vietnam (VIE)</th>\n      <td>14</td>\n      <td>0</td>\n      <td>2</td>\n      <td>0</td>\n      <td>2</td>\n      <td>0</td>\n      <td>0</td>\n      <td>0</td>\n      <td>0</td>\n      <td>0</td>\n      <td>14</td>\n      <td>0</td>\n      <td>2</td>\n      <td>0</td>\n      <td>2</td>\n    </tr>\n    <tr>\n      <th>Virgin Islands (ISV)</th>\n      <td>11</td>\n      <td>0</td>\n      <td>1</td>\n      <td>0</td>\n      <td>1</td>\n      <td>7</td>\n      <td>0</td>\n      <td>0</td>\n      <td>0</td>\n      <td>0</td>\n      <td>18</td>\n      <td>0</td>\n      <td>1</td>\n      <td>0</td>\n      <td>1</td>\n    </tr>\n    <tr>\n      <th>Independent Olympic Participants (IOP) [IOP]</th>\n      <td>1</td>\n      <td>0</td>\n      <td>1</td>\n      <td>2</td>\n      <td>3</td>\n      <td>0</td>\n      <td>0</td>\n      <td>0</td>\n      <td>0</td>\n      <td>0</td>\n      <td>1</td>\n      <td>0</td>\n      <td>1</td>\n      <td>2</td>\n      <td>3</td>\n    </tr>\n    <tr>\n      <th>Zambia (ZAM) [ZAM]</th>\n      <td>12</td>\n      <td>0</td>\n      <td>1</td>\n      <td>1</td>\n      <td>2</td>\n      <td>0</td>\n      <td>0</td>\n      <td>0</td>\n      <td>0</td>\n      <td>0</td>\n      <td>12</td>\n      <td>0</td>\n      <td>1</td>\n      <td>1</td>\n      <td>2</td>\n    </tr>\n  </tbody>\n</table>\n</div>"
     },
     "metadata": {},
     "output_type": "execute_result",
     "execution_count": 77
    }
   ],
   "source": [
    "url='http://facweb1.redlands.edu/fac/Tamara_Veenstra/ML/olympics.csv'\n",
    "df2 = pd.read_csv(url, index_col=0, skiprows=1)\n",
    "# fist I obtain the data set like in the original \n",
    "for col in df2.columns:\n",
    "    if col[:2]=='01':\n",
    "        df2.rename(columns={col:'Gold'+col[4:]}, inplace=True)\n",
    "    if col[:2]=='02':\n",
    "        df2.rename(columns={col:'Silver'+col[4:]}, inplace=True)\n",
    "    if col[:2]=='03':\n",
    "        df2.rename(columns={col:'Bronze'+col[4:]}, inplace=True)\n",
    "    if col[:1]=='№':\n",
    "        df2.rename(columns={col:'#'+col[1:]}, inplace=True)\n",
    "\n",
    "df2.drop('Totals', inplace=True)\n",
    "\n",
    "\n",
    "# Then have to loop over each row and delete the rows that\n",
    "# have a gold or less than 1 silver \n",
    "for index, row in df2.iterrows():\n",
    "    if row['Gold']>0 or row['Silver']<1:\n",
    "        df2.drop(index, inplace=True)\n",
    "\n",
    "df2"
   ]
  },
  {
   "cell_type": "markdown",
   "metadata": {},
   "source": [
    "## Question 7\n",
    "\n",
    "Sort the only_silver DataFrame by number of total silvers.\n",
    "<br>\n",
    "Then query the DataFrame to determine highest number of silver medals won by a country with no gold medals.\n",
    "<br>\n",
    "Then query the DataFrame to determine the country or countries in only_silver that have won the most silver medals.\n",
    "Hint: check the values for all countries in only_silver.index."
   ]
  },
  {
   "cell_type": "code",
   "execution_count": 78,
   "metadata": {
    "pycharm": {
     "is_executing": false
    }
   },
   "outputs": [
    {
     "data": {
      "text/plain": "                                              # Summer  Gold  Silver  Bronze  \\\nNamibia (NAM)                                        6     0       4       0   \nMalaysia (MAS) [MAS]                                12     0       3       3   \nPuerto Rico (PUR)                                   17     0       2       6   \nMoldova (MDA)                                        5     0       2       5   \nPhilippines (PHI)                                   20     0       2       7   \nVietnam (VIE)                                       14     0       2       0   \nSingapore (SIN)                                     15     0       2       2   \nTanzania (TAN) [TAN]                                12     0       2       0   \nIceland (ISL)                                       19     0       2       2   \nSri Lanka (SRI) [SRI]                               16     0       2       0   \nLebanon (LIB)                                       16     0       2       2   \nSenegal (SEN)                                       13     0       1       0   \nBohemia (BOH) [BOH] [Z]                              3     0       1       3   \nSaudi Arabia (KSA)                                  10     0       1       2   \nTajikistan (TJK)                                     5     0       1       2   \nTonga (TGA)                                          8     0       1       0   \nVirgin Islands (ISV)                                11     0       1       0   \nIndependent Olympic Participants (IOP) [IOP]         1     0       1       2   \nSudan (SUD)                                         11     0       1       0   \nNetherlands Antilles (AHO) [AHO] [I]                13     0       1       0   \nParaguay (PAR)                                      11     0       1       0   \nBotswana (BOT)                                       9     0       1       0   \nMontenegro (MNE)                                     2     0       1       0   \nKyrgyzstan (KGZ)                                     5     0       1       2   \nHaiti (HAI) [J]                                     14     0       1       1   \nGuatemala (GUA)                                     13     0       1       0   \nGhana (GHA) [GHA]                                   13     0       1       3   \nGabon (GAB)                                          9     0       1       0   \nCyprus (CYP)                                         9     0       1       0   \nIvory Coast (CIV) [CIV]                             12     0       1       0   \nZambia (ZAM) [ZAM]                                  12     0       1       1   \n\n                                              Total  # Winter  Gold.1  \\\nNamibia (NAM)                                     4         0       0   \nMalaysia (MAS) [MAS]                              6         0       0   \nPuerto Rico (PUR)                                 8         6       0   \nMoldova (MDA)                                     7         6       0   \nPhilippines (PHI)                                 9         4       0   \nVietnam (VIE)                                     2         0       0   \nSingapore (SIN)                                   4         0       0   \nTanzania (TAN) [TAN]                              2         0       0   \nIceland (ISL)                                     4        17       0   \nSri Lanka (SRI) [SRI]                             2         0       0   \nLebanon (LIB)                                     4        16       0   \nSenegal (SEN)                                     1         5       0   \nBohemia (BOH) [BOH] [Z]                           4         0       0   \nSaudi Arabia (KSA)                                3         0       0   \nTajikistan (TJK)                                  3         4       0   \nTonga (TGA)                                       1         1       0   \nVirgin Islands (ISV)                              1         7       0   \nIndependent Olympic Participants (IOP) [IOP]      3         0       0   \nSudan (SUD)                                       1         0       0   \nNetherlands Antilles (AHO) [AHO] [I]              1         2       0   \nParaguay (PAR)                                    1         1       0   \nBotswana (BOT)                                    1         0       0   \nMontenegro (MNE)                                  1         2       0   \nKyrgyzstan (KGZ)                                  3         6       0   \nHaiti (HAI) [J]                                   2         0       0   \nGuatemala (GUA)                                   1         1       0   \nGhana (GHA) [GHA]                                 4         1       0   \nGabon (GAB)                                       1         0       0   \nCyprus (CYP)                                      1        10       0   \nIvory Coast (CIV) [CIV]                           1         0       0   \nZambia (ZAM) [ZAM]                                2         0       0   \n\n                                              Silver.1  Bronze.1  Total.1  \\\nNamibia (NAM)                                        0         0        0   \nMalaysia (MAS) [MAS]                                 0         0        0   \nPuerto Rico (PUR)                                    0         0        0   \nMoldova (MDA)                                        0         0        0   \nPhilippines (PHI)                                    0         0        0   \nVietnam (VIE)                                        0         0        0   \nSingapore (SIN)                                      0         0        0   \nTanzania (TAN) [TAN]                                 0         0        0   \nIceland (ISL)                                        0         0        0   \nSri Lanka (SRI) [SRI]                                0         0        0   \nLebanon (LIB)                                        0         0        0   \nSenegal (SEN)                                        0         0        0   \nBohemia (BOH) [BOH] [Z]                              0         0        0   \nSaudi Arabia (KSA)                                   0         0        0   \nTajikistan (TJK)                                     0         0        0   \nTonga (TGA)                                          0         0        0   \nVirgin Islands (ISV)                                 0         0        0   \nIndependent Olympic Participants (IOP) [IOP]         0         0        0   \nSudan (SUD)                                          0         0        0   \nNetherlands Antilles (AHO) [AHO] [I]                 0         0        0   \nParaguay (PAR)                                       0         0        0   \nBotswana (BOT)                                       0         0        0   \nMontenegro (MNE)                                     0         0        0   \nKyrgyzstan (KGZ)                                     0         0        0   \nHaiti (HAI) [J]                                      0         0        0   \nGuatemala (GUA)                                      0         0        0   \nGhana (GHA) [GHA]                                    0         0        0   \nGabon (GAB)                                          0         0        0   \nCyprus (CYP)                                         0         0        0   \nIvory Coast (CIV) [CIV]                              0         0        0   \nZambia (ZAM) [ZAM]                                   0         0        0   \n\n                                              # Games  Gold.2  Silver.2  \\\nNamibia (NAM)                                       6       0         4   \nMalaysia (MAS) [MAS]                               12       0         3   \nPuerto Rico (PUR)                                  23       0         2   \nMoldova (MDA)                                      11       0         2   \nPhilippines (PHI)                                  24       0         2   \nVietnam (VIE)                                      14       0         2   \nSingapore (SIN)                                    15       0         2   \nTanzania (TAN) [TAN]                               12       0         2   \nIceland (ISL)                                      36       0         2   \nSri Lanka (SRI) [SRI]                              16       0         2   \nLebanon (LIB)                                      32       0         2   \nSenegal (SEN)                                      18       0         1   \nBohemia (BOH) [BOH] [Z]                             3       0         1   \nSaudi Arabia (KSA)                                 10       0         1   \nTajikistan (TJK)                                    9       0         1   \nTonga (TGA)                                         9       0         1   \nVirgin Islands (ISV)                               18       0         1   \nIndependent Olympic Participants (IOP) [IOP]        1       0         1   \nSudan (SUD)                                        11       0         1   \nNetherlands Antilles (AHO) [AHO] [I]               15       0         1   \nParaguay (PAR)                                     12       0         1   \nBotswana (BOT)                                      9       0         1   \nMontenegro (MNE)                                    4       0         1   \nKyrgyzstan (KGZ)                                   11       0         1   \nHaiti (HAI) [J]                                    14       0         1   \nGuatemala (GUA)                                    14       0         1   \nGhana (GHA) [GHA]                                  14       0         1   \nGabon (GAB)                                         9       0         1   \nCyprus (CYP)                                       19       0         1   \nIvory Coast (CIV) [CIV]                            12       0         1   \nZambia (ZAM) [ZAM]                                 12       0         1   \n\n                                              Bronze.2  Combined total  \nNamibia (NAM)                                        0               4  \nMalaysia (MAS) [MAS]                                 3               6  \nPuerto Rico (PUR)                                    6               8  \nMoldova (MDA)                                        5               7  \nPhilippines (PHI)                                    7               9  \nVietnam (VIE)                                        0               2  \nSingapore (SIN)                                      2               4  \nTanzania (TAN) [TAN]                                 0               2  \nIceland (ISL)                                        2               4  \nSri Lanka (SRI) [SRI]                                0               2  \nLebanon (LIB)                                        2               4  \nSenegal (SEN)                                        0               1  \nBohemia (BOH) [BOH] [Z]                              3               4  \nSaudi Arabia (KSA)                                   2               3  \nTajikistan (TJK)                                     2               3  \nTonga (TGA)                                          0               1  \nVirgin Islands (ISV)                                 0               1  \nIndependent Olympic Participants (IOP) [IOP]         2               3  \nSudan (SUD)                                          0               1  \nNetherlands Antilles (AHO) [AHO] [I]                 0               1  \nParaguay (PAR)                                       0               1  \nBotswana (BOT)                                       0               1  \nMontenegro (MNE)                                     0               1  \nKyrgyzstan (KGZ)                                     2               3  \nHaiti (HAI) [J]                                      1               2  \nGuatemala (GUA)                                      0               1  \nGhana (GHA) [GHA]                                    3               4  \nGabon (GAB)                                          0               1  \nCyprus (CYP)                                         0               1  \nIvory Coast (CIV) [CIV]                              0               1  \nZambia (ZAM) [ZAM]                                   1               2  ",
      "text/html": "<div>\n<style scoped>\n    .dataframe tbody tr th:only-of-type {\n        vertical-align: middle;\n    }\n\n    .dataframe tbody tr th {\n        vertical-align: top;\n    }\n\n    .dataframe thead th {\n        text-align: right;\n    }\n</style>\n<table border=\"1\" class=\"dataframe\">\n  <thead>\n    <tr style=\"text-align: right;\">\n      <th></th>\n      <th># Summer</th>\n      <th>Gold</th>\n      <th>Silver</th>\n      <th>Bronze</th>\n      <th>Total</th>\n      <th># Winter</th>\n      <th>Gold.1</th>\n      <th>Silver.1</th>\n      <th>Bronze.1</th>\n      <th>Total.1</th>\n      <th># Games</th>\n      <th>Gold.2</th>\n      <th>Silver.2</th>\n      <th>Bronze.2</th>\n      <th>Combined total</th>\n    </tr>\n  </thead>\n  <tbody>\n    <tr>\n      <th>Namibia (NAM)</th>\n      <td>6</td>\n      <td>0</td>\n      <td>4</td>\n      <td>0</td>\n      <td>4</td>\n      <td>0</td>\n      <td>0</td>\n      <td>0</td>\n      <td>0</td>\n      <td>0</td>\n      <td>6</td>\n      <td>0</td>\n      <td>4</td>\n      <td>0</td>\n      <td>4</td>\n    </tr>\n    <tr>\n      <th>Malaysia (MAS) [MAS]</th>\n      <td>12</td>\n      <td>0</td>\n      <td>3</td>\n      <td>3</td>\n      <td>6</td>\n      <td>0</td>\n      <td>0</td>\n      <td>0</td>\n      <td>0</td>\n      <td>0</td>\n      <td>12</td>\n      <td>0</td>\n      <td>3</td>\n      <td>3</td>\n      <td>6</td>\n    </tr>\n    <tr>\n      <th>Puerto Rico (PUR)</th>\n      <td>17</td>\n      <td>0</td>\n      <td>2</td>\n      <td>6</td>\n      <td>8</td>\n      <td>6</td>\n      <td>0</td>\n      <td>0</td>\n      <td>0</td>\n      <td>0</td>\n      <td>23</td>\n      <td>0</td>\n      <td>2</td>\n      <td>6</td>\n      <td>8</td>\n    </tr>\n    <tr>\n      <th>Moldova (MDA)</th>\n      <td>5</td>\n      <td>0</td>\n      <td>2</td>\n      <td>5</td>\n      <td>7</td>\n      <td>6</td>\n      <td>0</td>\n      <td>0</td>\n      <td>0</td>\n      <td>0</td>\n      <td>11</td>\n      <td>0</td>\n      <td>2</td>\n      <td>5</td>\n      <td>7</td>\n    </tr>\n    <tr>\n      <th>Philippines (PHI)</th>\n      <td>20</td>\n      <td>0</td>\n      <td>2</td>\n      <td>7</td>\n      <td>9</td>\n      <td>4</td>\n      <td>0</td>\n      <td>0</td>\n      <td>0</td>\n      <td>0</td>\n      <td>24</td>\n      <td>0</td>\n      <td>2</td>\n      <td>7</td>\n      <td>9</td>\n    </tr>\n    <tr>\n      <th>Vietnam (VIE)</th>\n      <td>14</td>\n      <td>0</td>\n      <td>2</td>\n      <td>0</td>\n      <td>2</td>\n      <td>0</td>\n      <td>0</td>\n      <td>0</td>\n      <td>0</td>\n      <td>0</td>\n      <td>14</td>\n      <td>0</td>\n      <td>2</td>\n      <td>0</td>\n      <td>2</td>\n    </tr>\n    <tr>\n      <th>Singapore (SIN)</th>\n      <td>15</td>\n      <td>0</td>\n      <td>2</td>\n      <td>2</td>\n      <td>4</td>\n      <td>0</td>\n      <td>0</td>\n      <td>0</td>\n      <td>0</td>\n      <td>0</td>\n      <td>15</td>\n      <td>0</td>\n      <td>2</td>\n      <td>2</td>\n      <td>4</td>\n    </tr>\n    <tr>\n      <th>Tanzania (TAN) [TAN]</th>\n      <td>12</td>\n      <td>0</td>\n      <td>2</td>\n      <td>0</td>\n      <td>2</td>\n      <td>0</td>\n      <td>0</td>\n      <td>0</td>\n      <td>0</td>\n      <td>0</td>\n      <td>12</td>\n      <td>0</td>\n      <td>2</td>\n      <td>0</td>\n      <td>2</td>\n    </tr>\n    <tr>\n      <th>Iceland (ISL)</th>\n      <td>19</td>\n      <td>0</td>\n      <td>2</td>\n      <td>2</td>\n      <td>4</td>\n      <td>17</td>\n      <td>0</td>\n      <td>0</td>\n      <td>0</td>\n      <td>0</td>\n      <td>36</td>\n      <td>0</td>\n      <td>2</td>\n      <td>2</td>\n      <td>4</td>\n    </tr>\n    <tr>\n      <th>Sri Lanka (SRI) [SRI]</th>\n      <td>16</td>\n      <td>0</td>\n      <td>2</td>\n      <td>0</td>\n      <td>2</td>\n      <td>0</td>\n      <td>0</td>\n      <td>0</td>\n      <td>0</td>\n      <td>0</td>\n      <td>16</td>\n      <td>0</td>\n      <td>2</td>\n      <td>0</td>\n      <td>2</td>\n    </tr>\n    <tr>\n      <th>Lebanon (LIB)</th>\n      <td>16</td>\n      <td>0</td>\n      <td>2</td>\n      <td>2</td>\n      <td>4</td>\n      <td>16</td>\n      <td>0</td>\n      <td>0</td>\n      <td>0</td>\n      <td>0</td>\n      <td>32</td>\n      <td>0</td>\n      <td>2</td>\n      <td>2</td>\n      <td>4</td>\n    </tr>\n    <tr>\n      <th>Senegal (SEN)</th>\n      <td>13</td>\n      <td>0</td>\n      <td>1</td>\n      <td>0</td>\n      <td>1</td>\n      <td>5</td>\n      <td>0</td>\n      <td>0</td>\n      <td>0</td>\n      <td>0</td>\n      <td>18</td>\n      <td>0</td>\n      <td>1</td>\n      <td>0</td>\n      <td>1</td>\n    </tr>\n    <tr>\n      <th>Bohemia (BOH) [BOH] [Z]</th>\n      <td>3</td>\n      <td>0</td>\n      <td>1</td>\n      <td>3</td>\n      <td>4</td>\n      <td>0</td>\n      <td>0</td>\n      <td>0</td>\n      <td>0</td>\n      <td>0</td>\n      <td>3</td>\n      <td>0</td>\n      <td>1</td>\n      <td>3</td>\n      <td>4</td>\n    </tr>\n    <tr>\n      <th>Saudi Arabia (KSA)</th>\n      <td>10</td>\n      <td>0</td>\n      <td>1</td>\n      <td>2</td>\n      <td>3</td>\n      <td>0</td>\n      <td>0</td>\n      <td>0</td>\n      <td>0</td>\n      <td>0</td>\n      <td>10</td>\n      <td>0</td>\n      <td>1</td>\n      <td>2</td>\n      <td>3</td>\n    </tr>\n    <tr>\n      <th>Tajikistan (TJK)</th>\n      <td>5</td>\n      <td>0</td>\n      <td>1</td>\n      <td>2</td>\n      <td>3</td>\n      <td>4</td>\n      <td>0</td>\n      <td>0</td>\n      <td>0</td>\n      <td>0</td>\n      <td>9</td>\n      <td>0</td>\n      <td>1</td>\n      <td>2</td>\n      <td>3</td>\n    </tr>\n    <tr>\n      <th>Tonga (TGA)</th>\n      <td>8</td>\n      <td>0</td>\n      <td>1</td>\n      <td>0</td>\n      <td>1</td>\n      <td>1</td>\n      <td>0</td>\n      <td>0</td>\n      <td>0</td>\n      <td>0</td>\n      <td>9</td>\n      <td>0</td>\n      <td>1</td>\n      <td>0</td>\n      <td>1</td>\n    </tr>\n    <tr>\n      <th>Virgin Islands (ISV)</th>\n      <td>11</td>\n      <td>0</td>\n      <td>1</td>\n      <td>0</td>\n      <td>1</td>\n      <td>7</td>\n      <td>0</td>\n      <td>0</td>\n      <td>0</td>\n      <td>0</td>\n      <td>18</td>\n      <td>0</td>\n      <td>1</td>\n      <td>0</td>\n      <td>1</td>\n    </tr>\n    <tr>\n      <th>Independent Olympic Participants (IOP) [IOP]</th>\n      <td>1</td>\n      <td>0</td>\n      <td>1</td>\n      <td>2</td>\n      <td>3</td>\n      <td>0</td>\n      <td>0</td>\n      <td>0</td>\n      <td>0</td>\n      <td>0</td>\n      <td>1</td>\n      <td>0</td>\n      <td>1</td>\n      <td>2</td>\n      <td>3</td>\n    </tr>\n    <tr>\n      <th>Sudan (SUD)</th>\n      <td>11</td>\n      <td>0</td>\n      <td>1</td>\n      <td>0</td>\n      <td>1</td>\n      <td>0</td>\n      <td>0</td>\n      <td>0</td>\n      <td>0</td>\n      <td>0</td>\n      <td>11</td>\n      <td>0</td>\n      <td>1</td>\n      <td>0</td>\n      <td>1</td>\n    </tr>\n    <tr>\n      <th>Netherlands Antilles (AHO) [AHO] [I]</th>\n      <td>13</td>\n      <td>0</td>\n      <td>1</td>\n      <td>0</td>\n      <td>1</td>\n      <td>2</td>\n      <td>0</td>\n      <td>0</td>\n      <td>0</td>\n      <td>0</td>\n      <td>15</td>\n      <td>0</td>\n      <td>1</td>\n      <td>0</td>\n      <td>1</td>\n    </tr>\n    <tr>\n      <th>Paraguay (PAR)</th>\n      <td>11</td>\n      <td>0</td>\n      <td>1</td>\n      <td>0</td>\n      <td>1</td>\n      <td>1</td>\n      <td>0</td>\n      <td>0</td>\n      <td>0</td>\n      <td>0</td>\n      <td>12</td>\n      <td>0</td>\n      <td>1</td>\n      <td>0</td>\n      <td>1</td>\n    </tr>\n    <tr>\n      <th>Botswana (BOT)</th>\n      <td>9</td>\n      <td>0</td>\n      <td>1</td>\n      <td>0</td>\n      <td>1</td>\n      <td>0</td>\n      <td>0</td>\n      <td>0</td>\n      <td>0</td>\n      <td>0</td>\n      <td>9</td>\n      <td>0</td>\n      <td>1</td>\n      <td>0</td>\n      <td>1</td>\n    </tr>\n    <tr>\n      <th>Montenegro (MNE)</th>\n      <td>2</td>\n      <td>0</td>\n      <td>1</td>\n      <td>0</td>\n      <td>1</td>\n      <td>2</td>\n      <td>0</td>\n      <td>0</td>\n      <td>0</td>\n      <td>0</td>\n      <td>4</td>\n      <td>0</td>\n      <td>1</td>\n      <td>0</td>\n      <td>1</td>\n    </tr>\n    <tr>\n      <th>Kyrgyzstan (KGZ)</th>\n      <td>5</td>\n      <td>0</td>\n      <td>1</td>\n      <td>2</td>\n      <td>3</td>\n      <td>6</td>\n      <td>0</td>\n      <td>0</td>\n      <td>0</td>\n      <td>0</td>\n      <td>11</td>\n      <td>0</td>\n      <td>1</td>\n      <td>2</td>\n      <td>3</td>\n    </tr>\n    <tr>\n      <th>Haiti (HAI) [J]</th>\n      <td>14</td>\n      <td>0</td>\n      <td>1</td>\n      <td>1</td>\n      <td>2</td>\n      <td>0</td>\n      <td>0</td>\n      <td>0</td>\n      <td>0</td>\n      <td>0</td>\n      <td>14</td>\n      <td>0</td>\n      <td>1</td>\n      <td>1</td>\n      <td>2</td>\n    </tr>\n    <tr>\n      <th>Guatemala (GUA)</th>\n      <td>13</td>\n      <td>0</td>\n      <td>1</td>\n      <td>0</td>\n      <td>1</td>\n      <td>1</td>\n      <td>0</td>\n      <td>0</td>\n      <td>0</td>\n      <td>0</td>\n      <td>14</td>\n      <td>0</td>\n      <td>1</td>\n      <td>0</td>\n      <td>1</td>\n    </tr>\n    <tr>\n      <th>Ghana (GHA) [GHA]</th>\n      <td>13</td>\n      <td>0</td>\n      <td>1</td>\n      <td>3</td>\n      <td>4</td>\n      <td>1</td>\n      <td>0</td>\n      <td>0</td>\n      <td>0</td>\n      <td>0</td>\n      <td>14</td>\n      <td>0</td>\n      <td>1</td>\n      <td>3</td>\n      <td>4</td>\n    </tr>\n    <tr>\n      <th>Gabon (GAB)</th>\n      <td>9</td>\n      <td>0</td>\n      <td>1</td>\n      <td>0</td>\n      <td>1</td>\n      <td>0</td>\n      <td>0</td>\n      <td>0</td>\n      <td>0</td>\n      <td>0</td>\n      <td>9</td>\n      <td>0</td>\n      <td>1</td>\n      <td>0</td>\n      <td>1</td>\n    </tr>\n    <tr>\n      <th>Cyprus (CYP)</th>\n      <td>9</td>\n      <td>0</td>\n      <td>1</td>\n      <td>0</td>\n      <td>1</td>\n      <td>10</td>\n      <td>0</td>\n      <td>0</td>\n      <td>0</td>\n      <td>0</td>\n      <td>19</td>\n      <td>0</td>\n      <td>1</td>\n      <td>0</td>\n      <td>1</td>\n    </tr>\n    <tr>\n      <th>Ivory Coast (CIV) [CIV]</th>\n      <td>12</td>\n      <td>0</td>\n      <td>1</td>\n      <td>0</td>\n      <td>1</td>\n      <td>0</td>\n      <td>0</td>\n      <td>0</td>\n      <td>0</td>\n      <td>0</td>\n      <td>12</td>\n      <td>0</td>\n      <td>1</td>\n      <td>0</td>\n      <td>1</td>\n    </tr>\n    <tr>\n      <th>Zambia (ZAM) [ZAM]</th>\n      <td>12</td>\n      <td>0</td>\n      <td>1</td>\n      <td>1</td>\n      <td>2</td>\n      <td>0</td>\n      <td>0</td>\n      <td>0</td>\n      <td>0</td>\n      <td>0</td>\n      <td>12</td>\n      <td>0</td>\n      <td>1</td>\n      <td>1</td>\n      <td>2</td>\n    </tr>\n  </tbody>\n</table>\n</div>"
     },
     "metadata": {},
     "output_type": "execute_result",
     "execution_count": 78
    }
   ],
   "source": [
    "# sorting the silver table by the silvers column\n",
    "df2=df2.sort_values(by=['Silver'] , ascending=False)\n",
    "# have to set it equal to the df to make it permanent \n",
    "df2"
   ]
  },
  {
   "cell_type": "code",
   "execution_count": 66,
   "metadata": {
    "pycharm": {
     "is_executing": false
    }
   },
   "outputs": [],
   "source": []
  },
  {
   "cell_type": "code",
   "execution_count": 66,
   "metadata": {
    "pycharm": {
     "is_executing": false
    }
   },
   "outputs": [],
   "source": []
  },
  {
   "cell_type": "markdown",
   "metadata": {},
   "source": [
    "## Question 8\n",
    "\n",
    "Add a column to the DataFrame df that contains the value of summer gold medals - winter gold metals.\n",
    "Sort the DataFrame by this column and determine which country has the smallest value here and which has the largest value. \n",
    "\n"
   ]
  },
  {
   "cell_type": "code",
   "execution_count": 81,
   "metadata": {
    "umich_part_id": "002",
    "umich_partlist_id": "001",
    "pycharm": {
     "is_executing": false
    }
   },
   "outputs": [
    {
     "data": {
      "text/plain": "                                     # Summer  Gold  Silver  Bronze  Total  \\\nUnited States (USA) [P] [Q] [R] [Z]        26   976     757     666   2399   \nSoviet Union (URS) [URS]                    9   395     319     296   1010   \nGreat Britain (GBR) [GBR] [Z]              27   236     272     272    780   \nChina (CHN) [CHN]                           9   201     146     126    473   \nFrance (FRA) [O] [P] [Z]                   27   202     223     246    671   \n...                                       ...   ...     ...     ...    ...   \nLiechtenstein (LIE)                        16     0       0       0      0   \nCanada (CAN)                               25    59      99     121    279   \nSwitzerland (SUI)                          27    47      73      65    185   \nAustria (AUT)                              26    18      33      35     86   \nNorway (NOR) [Q]                           24    56      49      43    148   \n\n                                     # Winter  Gold.1  Silver.1  Bronze.1  \\\nUnited States (USA) [P] [Q] [R] [Z]        22      96       102        84   \nSoviet Union (URS) [URS]                    9      78        57        59   \nGreat Britain (GBR) [GBR] [Z]              22      10         4        12   \nChina (CHN) [CHN]                          10      12        22        19   \nFrance (FRA) [O] [P] [Z]                   22      31        31        47   \n...                                       ...     ...       ...       ...   \nLiechtenstein (LIE)                        18       2         2         5   \nCanada (CAN)                               22      62        56        52   \nSwitzerland (SUI)                          22      50        40        48   \nAustria (AUT)                              22      59        78        81   \nNorway (NOR) [Q]                           22     118       111       100   \n\n                                     Total.1  # Games  Gold.2  Silver.2  \\\nUnited States (USA) [P] [Q] [R] [Z]      282       48    1072       859   \nSoviet Union (URS) [URS]                 194       18     473       376   \nGreat Britain (GBR) [GBR] [Z]             26       49     246       276   \nChina (CHN) [CHN]                         53       19     213       168   \nFrance (FRA) [O] [P] [Z]                 109       49     233       254   \n...                                      ...      ...     ...       ...   \nLiechtenstein (LIE)                        9       34       2         2   \nCanada (CAN)                             170       47     121       155   \nSwitzerland (SUI)                        138       49      97       113   \nAustria (AUT)                            218       48      77       111   \nNorway (NOR) [Q]                         329       46     174       160   \n\n                                     Bronze.2  Combined total  strange  \nUnited States (USA) [P] [Q] [R] [Z]       750            2681      880  \nSoviet Union (URS) [URS]                  355            1204      317  \nGreat Britain (GBR) [GBR] [Z]             284             806      226  \nChina (CHN) [CHN]                         145             526      189  \nFrance (FRA) [O] [P] [Z]                  293             780      171  \n...                                       ...             ...      ...  \nLiechtenstein (LIE)                         5               9       -2  \nCanada (CAN)                              173             449       -3  \nSwitzerland (SUI)                         113             323       -3  \nAustria (AUT)                             116             304      -41  \nNorway (NOR) [Q]                          143             477      -62  \n\n[146 rows x 16 columns]",
      "text/html": "<div>\n<style scoped>\n    .dataframe tbody tr th:only-of-type {\n        vertical-align: middle;\n    }\n\n    .dataframe tbody tr th {\n        vertical-align: top;\n    }\n\n    .dataframe thead th {\n        text-align: right;\n    }\n</style>\n<table border=\"1\" class=\"dataframe\">\n  <thead>\n    <tr style=\"text-align: right;\">\n      <th></th>\n      <th># Summer</th>\n      <th>Gold</th>\n      <th>Silver</th>\n      <th>Bronze</th>\n      <th>Total</th>\n      <th># Winter</th>\n      <th>Gold.1</th>\n      <th>Silver.1</th>\n      <th>Bronze.1</th>\n      <th>Total.1</th>\n      <th># Games</th>\n      <th>Gold.2</th>\n      <th>Silver.2</th>\n      <th>Bronze.2</th>\n      <th>Combined total</th>\n      <th>strange</th>\n    </tr>\n  </thead>\n  <tbody>\n    <tr>\n      <th>United States (USA) [P] [Q] [R] [Z]</th>\n      <td>26</td>\n      <td>976</td>\n      <td>757</td>\n      <td>666</td>\n      <td>2399</td>\n      <td>22</td>\n      <td>96</td>\n      <td>102</td>\n      <td>84</td>\n      <td>282</td>\n      <td>48</td>\n      <td>1072</td>\n      <td>859</td>\n      <td>750</td>\n      <td>2681</td>\n      <td>880</td>\n    </tr>\n    <tr>\n      <th>Soviet Union (URS) [URS]</th>\n      <td>9</td>\n      <td>395</td>\n      <td>319</td>\n      <td>296</td>\n      <td>1010</td>\n      <td>9</td>\n      <td>78</td>\n      <td>57</td>\n      <td>59</td>\n      <td>194</td>\n      <td>18</td>\n      <td>473</td>\n      <td>376</td>\n      <td>355</td>\n      <td>1204</td>\n      <td>317</td>\n    </tr>\n    <tr>\n      <th>Great Britain (GBR) [GBR] [Z]</th>\n      <td>27</td>\n      <td>236</td>\n      <td>272</td>\n      <td>272</td>\n      <td>780</td>\n      <td>22</td>\n      <td>10</td>\n      <td>4</td>\n      <td>12</td>\n      <td>26</td>\n      <td>49</td>\n      <td>246</td>\n      <td>276</td>\n      <td>284</td>\n      <td>806</td>\n      <td>226</td>\n    </tr>\n    <tr>\n      <th>China (CHN) [CHN]</th>\n      <td>9</td>\n      <td>201</td>\n      <td>146</td>\n      <td>126</td>\n      <td>473</td>\n      <td>10</td>\n      <td>12</td>\n      <td>22</td>\n      <td>19</td>\n      <td>53</td>\n      <td>19</td>\n      <td>213</td>\n      <td>168</td>\n      <td>145</td>\n      <td>526</td>\n      <td>189</td>\n    </tr>\n    <tr>\n      <th>France (FRA) [O] [P] [Z]</th>\n      <td>27</td>\n      <td>202</td>\n      <td>223</td>\n      <td>246</td>\n      <td>671</td>\n      <td>22</td>\n      <td>31</td>\n      <td>31</td>\n      <td>47</td>\n      <td>109</td>\n      <td>49</td>\n      <td>233</td>\n      <td>254</td>\n      <td>293</td>\n      <td>780</td>\n      <td>171</td>\n    </tr>\n    <tr>\n      <th>...</th>\n      <td>...</td>\n      <td>...</td>\n      <td>...</td>\n      <td>...</td>\n      <td>...</td>\n      <td>...</td>\n      <td>...</td>\n      <td>...</td>\n      <td>...</td>\n      <td>...</td>\n      <td>...</td>\n      <td>...</td>\n      <td>...</td>\n      <td>...</td>\n      <td>...</td>\n      <td>...</td>\n    </tr>\n    <tr>\n      <th>Liechtenstein (LIE)</th>\n      <td>16</td>\n      <td>0</td>\n      <td>0</td>\n      <td>0</td>\n      <td>0</td>\n      <td>18</td>\n      <td>2</td>\n      <td>2</td>\n      <td>5</td>\n      <td>9</td>\n      <td>34</td>\n      <td>2</td>\n      <td>2</td>\n      <td>5</td>\n      <td>9</td>\n      <td>-2</td>\n    </tr>\n    <tr>\n      <th>Canada (CAN)</th>\n      <td>25</td>\n      <td>59</td>\n      <td>99</td>\n      <td>121</td>\n      <td>279</td>\n      <td>22</td>\n      <td>62</td>\n      <td>56</td>\n      <td>52</td>\n      <td>170</td>\n      <td>47</td>\n      <td>121</td>\n      <td>155</td>\n      <td>173</td>\n      <td>449</td>\n      <td>-3</td>\n    </tr>\n    <tr>\n      <th>Switzerland (SUI)</th>\n      <td>27</td>\n      <td>47</td>\n      <td>73</td>\n      <td>65</td>\n      <td>185</td>\n      <td>22</td>\n      <td>50</td>\n      <td>40</td>\n      <td>48</td>\n      <td>138</td>\n      <td>49</td>\n      <td>97</td>\n      <td>113</td>\n      <td>113</td>\n      <td>323</td>\n      <td>-3</td>\n    </tr>\n    <tr>\n      <th>Austria (AUT)</th>\n      <td>26</td>\n      <td>18</td>\n      <td>33</td>\n      <td>35</td>\n      <td>86</td>\n      <td>22</td>\n      <td>59</td>\n      <td>78</td>\n      <td>81</td>\n      <td>218</td>\n      <td>48</td>\n      <td>77</td>\n      <td>111</td>\n      <td>116</td>\n      <td>304</td>\n      <td>-41</td>\n    </tr>\n    <tr>\n      <th>Norway (NOR) [Q]</th>\n      <td>24</td>\n      <td>56</td>\n      <td>49</td>\n      <td>43</td>\n      <td>148</td>\n      <td>22</td>\n      <td>118</td>\n      <td>111</td>\n      <td>100</td>\n      <td>329</td>\n      <td>46</td>\n      <td>174</td>\n      <td>160</td>\n      <td>143</td>\n      <td>477</td>\n      <td>-62</td>\n    </tr>\n  </tbody>\n</table>\n<p>146 rows × 16 columns</p>\n</div>"
     },
     "metadata": {},
     "output_type": "execute_result",
     "execution_count": 81
    }
   ],
   "source": [
    "arr=[]\n",
    "# calculate the sdifference for each row \n",
    "for index, row in df.iterrows():\n",
    "    arr.append(row['Gold']-row['Gold.1'])\n",
    "    # append that difference to an array \n",
    "df['strange']= arr\n",
    "# create a new col called strange with those values of the differences \n",
    "df=df.sort_values(by=['strange'] , ascending=False)\n",
    "# sort by that col \n",
    "df"
   ]
  },
  {
   "cell_type": "code",
   "execution_count": 66,
   "metadata": {
    "pycharm": {
     "is_executing": false
    }
   },
   "outputs": [],
   "source": []
  },
  {
   "cell_type": "code",
   "execution_count": 66,
   "metadata": {
    "umich_part_id": "003",
    "umich_partlist_id": "001",
    "pycharm": {
     "is_executing": false
    }
   },
   "outputs": [],
   "source": []
  },
  {
   "cell_type": "markdown",
   "metadata": {},
   "source": [
    "## Question 9\n",
    "Write a function that creates a Series called \"Points\" which is a weighted value where each gold medal (`Gold.2`) counts for 3 points, silver medals (`Silver.2`) for 2 points, and bronze medals (`Bronze.2`) for 1 point. The function should return only the column (a Series object) which you created, with the country names as indices.\n",
    "\n",
    "def Points():"
   ]
  },
  {
   "cell_type": "code",
   "execution_count": 66,
   "metadata": {
    "umich_part_id": "004",
    "umich_partlist_id": "001",
    "pycharm": {
     "is_executing": false
    }
   },
   "outputs": [],
   "source": []
  },
  {
   "cell_type": "code",
   "execution_count": 66,
   "metadata": {
    "umich_question": "prolog-005",
    "pycharm": {
     "is_executing": false
    }
   },
   "outputs": [],
   "source": []
  },
  {
   "cell_type": "markdown",
   "metadata": {
    "collapsed": true,
    "umich_part_id": "005",
    "umich_partlist_id": "002"
   },
   "source": [
    "## Question 10\n",
    "\n",
    "How comfortable are you with pandas DataFrames after this homework assignment? Explain what you think you are understanding well and describe anything you would like to understand better."
   ]
  },
  {
   "cell_type": "code",
   "execution_count": 67,
   "metadata": {
    "umich_part_id": "006",
    "umich_partlist_id": "002",
    "pycharm": {
     "is_executing": false
    }
   },
   "outputs": [],
   "source": [
    "# Not Comfortable with anything past question 6 onwards we never even spoke about that in class... looping through the sets or\n",
    "#accessing them in a looping structure \n"
   ]
  },
  {
   "cell_type": "code",
   "execution_count": 67,
   "metadata": {
    "umich_part_id": "007",
    "umich_partlist_id": "002",
    "pycharm": {
     "is_executing": false
    }
   },
   "outputs": [],
   "source": []
  },
  {
   "cell_type": "code",
   "execution_count": 67,
   "metadata": {
    "umich_part_id": "008",
    "umich_partlist_id": "002",
    "pycharm": {
     "is_executing": false
    }
   },
   "outputs": [],
   "source": []
  }
 ],
 "metadata": {
  "anaconda-cloud": {},
  "coursera": {
   "course_slug": "python-data-analysis",
   "graded_item_id": "tHmgx",
   "launcher_item_id": "Um6Bz",
   "part_id": "OQsnr"
  },
  "kernelspec": {
   "display_name": "Python 3",
   "language": "python",
   "name": "python3"
  },
  "language_info": {
   "codemirror_mode": {
    "name": "ipython",
    "version": 3
   },
   "file_extension": ".py",
   "mimetype": "text/x-python",
   "name": "python",
   "nbconvert_exporter": "python",
   "pygments_lexer": "ipython3",
   "version": "3.7.3"
  },
  "umich": {
   "id": "Assignment 2",
   "version": "1.2"
  },
  "pycharm": {
   "stem_cell": {
    "cell_type": "raw",
    "source": [],
    "metadata": {
     "collapsed": false
    }
   }
  }
 },
 "nbformat": 4,
 "nbformat_minor": 1
}
