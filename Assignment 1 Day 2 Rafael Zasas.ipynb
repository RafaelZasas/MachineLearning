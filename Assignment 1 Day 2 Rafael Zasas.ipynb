{
 "cells": [
  {
   "cell_type": "markdown",
   "metadata": {},
   "source": [
    "<H1>Assignment 1 - Python and Jupyter Introduction</H1>\n",
    "\n",
    "There are 10 questions in this assignment and all questions are weighted the same."
   ]
  },
  {
   "cell_type": "markdown",
   "metadata": {},
   "source": [
    "<H4>Question 0: Example</H4>\n",
    "\n",
    "This is a sample question and solution. (There is no need for you to do anything here except read.)\n",
    "\n",
    "Task: Create a list of multiples of 5 from 0 to 100 using two different methods: a for loop with append and a list comprehension statement."
   ]
  },
  {
   "cell_type": "code",
   "execution_count": 2,
   "metadata": {
    "pycharm": {
     "is_executing": false
    }
   },
   "outputs": [
    {
     "traceback": [
      "\u001b[1;36m  File \u001b[1;32m\"<ipython-input-2-edd31766d125>\"\u001b[1;36m, line \u001b[1;32m9\u001b[0m\n\u001b[1;33m    mult_5= ???\u001b[0m\n\u001b[1;37m            ^\u001b[0m\n\u001b[1;31mSyntaxError\u001b[0m\u001b[1;31m:\u001b[0m invalid syntax\n"
     ],
     "ename": "SyntaxError",
     "evalue": "invalid syntax (<ipython-input-2-edd31766d125>, line 9)",
     "output_type": "error"
    }
   ],
   "source": [
    "##Sample Question Cell\n",
    "\n",
    "mult5=[]\n",
    "## Add elements to this list to get all multiples of 5 from 0 to 100 \n",
    "## using a for loop and append statements.\n",
    "???\n",
    "\n",
    "## Use list comprehension to create the same list. \n",
    "mult_5= ???\n",
    "\n",
    "mult5==mult_5"
   ]
  },
  {
   "cell_type": "code",
   "execution_count": null,
   "metadata": {
    "pycharm": {
     "is_executing": false
    }
   },
   "outputs": [],
   "source": [
    "##Sample Answer Cell\n",
    "\n",
    "mult5=[]\n",
    "## Add elements to this list to get all multiples of 5 from 0 to 100 \n",
    "## using a for loop and append statements.\n",
    "for i in range(21):\n",
    "    mult5.append(5*i)\n",
    "print(mult5)\n",
    "\n",
    "## Use list comprehension to create the same list. \n",
    "mult_5= [5*i for i in range(21)]\n",
    "print(mult_5)\n",
    "\n",
    "mult5==mult_5"
   ]
  },
  {
   "cell_type": "markdown",
   "metadata": {},
   "source": [
    "<H4>Question 1: Python Functions</H4>\n",
    "    \n",
    "Task: Write a Python function that will read in two strings and return a string which concatenates the two strings with a space in between."
   ]
  },
  {
   "cell_type": "code",
   "execution_count": 4,
   "metadata": {
    "pycharm": {
     "is_executing": false
    }
   },
   "outputs": [
    {
     "data": {
      "text/plain": "'hi there'"
     },
     "metadata": {},
     "output_type": "execute_result",
     "execution_count": 4
    }
   ],
   "source": [
    "## Write your function here.\n",
    "def function_one(s1,s2):\n",
    "    return f'{s1} {s2}'\n"
   ]
  },
  {
   "cell_type": "markdown",
   "metadata": {},
   "source": [
    "<H4>Question 2: Modification</H4>\n",
    "    \n",
    "Task: Adapt the previous function to allow for two or three strings."
   ]
  },
  {
   "cell_type": "code",
   "execution_count": 6,
   "metadata": {
    "pycharm": {
     "is_executing": false
    }
   },
   "outputs": [
    {
     "data": {
      "text/plain": "'hello there guy'"
     },
     "metadata": {},
     "output_type": "execute_result",
     "execution_count": 6
    }
   ],
   "source": [
    "## Write your function here.\n",
    "def function_two(s1,s2,s3=False):\n",
    "    if not s3:\n",
    "        return f'{s1} {s2}'\n",
    "    else:\n",
    "        return f'{s1} {s2} {s3}'\n",
    "    "
   ]
  },
  {
   "cell_type": "markdown",
   "metadata": {},
   "source": [
    "<H4>Question 3: Functions and Lists.</H4>\n",
    "\n",
    "Write a function to create a list of <it>n</it> Fibonacci numbers where n is an input to the function. \n",
    "\n",
    "The Fibonacci seqence is a sequence of numbers where the next number in the sequence is the sum of the previous two numbers in the sequence.  1, 1, 2, 3, 5, 8, 13, ..."
   ]
  },
  {
   "cell_type": "code",
   "execution_count": 10,
   "metadata": {
    "pycharm": {
     "is_executing": false
    }
   },
   "outputs": [
    {
     "data": {
      "text/plain": "13"
     },
     "metadata": {},
     "output_type": "execute_result",
     "execution_count": 10
    }
   ],
   "source": [
    "## Write your function here.\n",
    "def function_three(n):\n",
    "    if n == 1 or n == 2:\n",
    "        return 1\n",
    "    else:\n",
    "        return function_three(n - 1) + function_three(n - 2)"
   ]
  },
  {
   "cell_type": "markdown",
   "metadata": {},
   "source": [
    "<H4>Question 4: Lists</H4>\n",
    "\n",
    "Tasks:\n",
    "<ol>\n",
    "    <li> Create a new list which contains all the numbers in old_list which are congruent to 0 mod 3 using a list comprehension.\n",
    "    </li>\n",
    "<li> \n",
    "Use appropriate slicing to print the last three numbers of the original list.\n",
    "  </li>\n",
    "<li>\n",
    "Use appropriate slicing to print the middle five numbers of the original list. \n",
    "    </li>\n",
    "<li>\n",
    "Print all the numbers from old_list in reverse order.\n",
    "    </li>\n",
    "    </ol>\n"
   ]
  },
  {
   "cell_type": "code",
   "execution_count": 25,
   "metadata": {
    "pycharm": {
     "is_executing": false
    }
   },
   "outputs": [
    {
     "name": "stdout",
     "text": [
      "[98, 45, 29]\n[18, 22, 2, 31, 42]\n[29, 45, 98, 42, 31, 2, 22, 18, 4, 9, 5]\n"
     ],
     "output_type": "stream"
    }
   ],
   "source": [
    "## The starting list.\n",
    "old_list = [5,9,4,18,22,2,31,42,98,45,29]\n",
    "## create new list here of numbers in old_list which are congruent to 0 mod 3.\n",
    "new_list=[old_list[i] for i in range(len(old_list)) if old_list[i]%3==0]\n",
    "# print(new_list)\n",
    "## print last three\n",
    "print(old_list[-3:])\n",
    "## print middle five\n",
    "middle =int (len(old_list)/2)\n",
    "print(old_list[ middle -2 :middle+3])\n",
    "## print in reverse order\n",
    "print(old_list[::-1])"
   ]
  },
  {
   "cell_type": "markdown",
   "metadata": {},
   "source": [
    "<H4>Question 5: Dictionaries</H4>\n",
    "    \n",
    "Tasks: \n",
    "<ol>\n",
    "<li>Create a birthday dictionary with 5 people and their birthdays. Enter names and dates as strings. Neither the people nor the birthdays need to be real. \n",
    "    </li><li>\n",
    "Add a sixth person and their birthday to the dictionary.\n",
    "        </li><li> \n",
    "Print all names in the dictionary.\n",
    "   </li><li>\n",
    "Print all birthdays from the dictionary.\n",
    "    </li>\n",
    "  </ol>"
   ]
  },
  {
   "cell_type": "code",
   "execution_count": 27,
   "metadata": {
    "pycharm": {
     "is_executing": false
    }
   },
   "outputs": [
    {
     "name": "stdout",
     "text": [
      "dict_keys(['Addy', 'Betty', 'Cat', 'Dan', 'Ed', 'Fred'])\ndict_values(['1st Jan 2000', '2nd Jan 2000', '3rd Jan 2000', '4th Jan 2000', '5th Jan 2000', '6th Jan 2000'])\n"
     ],
     "output_type": "stream"
    }
   ],
   "source": [
    "## Create a dictionary with 5 names.\n",
    "birthday={\n",
    "    \"Addy\":\"1st Jan 2000\",\n",
    "    \"Betty\":\"2nd Jan 2000\",\n",
    "    \"Cat\":\"3rd Jan 2000\",\n",
    "    \"Dan\":\"4th Jan 2000\",\n",
    "    \"Ed\":\"5th Jan 2000\",\n",
    "}\n",
    "## Add a 6th name to the dictionary.\n",
    "birthday[\"Fred\"]=\"6th Jan 2000\"\n",
    "## Print all names in the dictionary.\n",
    "print(birthday.keys())\n",
    "## Print all birthdays in the dictionary.\n",
    "print(birthday.values())"
   ]
  },
  {
   "cell_type": "markdown",
   "metadata": {},
   "source": [
    "<H4>Question 6: Lambdas and Maps</H4>\n",
    "\n",
    "Task: Write a lambda function to double each entry in the list of numbers. Note: the rest of the code will apply this as a map function."
   ]
  },
  {
   "cell_type": "code",
   "execution_count": 28,
   "metadata": {
    "pycharm": {
     "is_executing": false
    }
   },
   "outputs": [
    {
     "name": "stdout",
     "text": [
      "[2, 18, 6, 4]\n"
     ],
     "output_type": "stream"
    }
   ],
   "source": [
    "numbers = [1, 9, 3, 2] \n",
    "result = map(lambda n:2*n, numbers) \n",
    "print(list(result)) "
   ]
  },
  {
   "cell_type": "markdown",
   "metadata": {},
   "source": [
    "<H4>Question 7: String Map</H4>\n",
    "    \n",
    "Task: for the given list1, use the map function to create a list of strings instead of integers with the given value. That is, you should end up with ['10','9',...]."
   ]
  },
  {
   "cell_type": "code",
   "execution_count": 32,
   "metadata": {
    "pycharm": {
     "is_executing": false
    }
   },
   "outputs": [
    {
     "name": "stdout",
     "text": [
      "['10', '9', '5', '7', '3']\n"
     ],
     "output_type": "stream"
    }
   ],
   "source": [
    "list1 = [10, 9, 5, 7, 3]\n",
    "print(list(map(str,list1)))\n"
   ]
  },
  {
   "cell_type": "markdown",
   "metadata": {},
   "source": [
    "<H4>Question 8: More Maps</H4>\n",
    "\n",
    "Tasks: \n",
    "<ol>\n",
    "    <li> Write a function to input a string of two names, first and last, and output just the first name.\n",
    "    </li><li>\n",
    "    Use the map function to apply your function to the list [names] below.\n",
    "    </li>\n",
    "    </ol>"
   ]
  },
  {
   "cell_type": "code",
   "execution_count": 50,
   "metadata": {
    "pycharm": {
     "is_executing": false
    }
   },
   "outputs": [
    {
     "name": "stdout",
     "text": [
      "['Max', 'Michael', 'Sam', 'Noah', 'Joseph', 'Anooj', 'John', 'Kimberly', 'Sam', 'Tyler', 'Jonathon', 'Rafael', 'Joanna', 'Tamara', 'Bongo', 'Bella', 'Kika']\n"
     ],
     "output_type": "stream"
    }
   ],
   "source": [
    "names=['Max Auerbach','Michael Brookstein','Sam Cribbs', \"Noah Delano\", \"Joseph Macias\", 'Anooj Patel', 'John Pease', 'Kimberly Sheldon', 'Sam Silva', 'Tyler Wise', 'Jonathon Zacarias', \"Rafael Zasas\", \"Joanna Bieri\", \"Tamara Veenstra\", \"Bongo the Cat\", \"Bella the Cat\",\"Kika the Cat\"]\n",
    "\n",
    "##Write your function here to input a multiple names and return just the first name.\n",
    "def your_function(name):\n",
    "    return name.split(\" \")[0]\n",
    "\n",
    "    \n",
    "##Use map to apply your_function to produce a list of all the first names in the list names.\n",
    "print(list(map(your_function,names)))"
   ]
  },
  {
   "cell_type": "markdown",
   "metadata": {},
   "source": [
    "<H4>Question 9: Even more maps</H4>\n",
    "\n",
    "Task: Use the map function to produce a list which contains the sums of the entries of the two lists below. That is, you should get the list [3+5,4+7,5+11,6+13].\n",
    "You may use either a lambda or a formal function."
   ]
  },
  {
   "cell_type": "code",
   "execution_count": 52,
   "metadata": {
    "pycharm": {
     "is_executing": false
    }
   },
   "outputs": [
    {
     "name": "stdout",
     "text": [
      "[8, 11, 16, 19]\n"
     ],
     "output_type": "stream"
    }
   ],
   "source": [
    "num1=[3,4,5,6]\n",
    "num2=[5,7,11,13]\n",
    "## Enter your code here \n",
    "\n",
    "print(list(map(lambda a,b:a+b,num1,num2)))"
   ]
  },
  {
   "cell_type": "markdown",
   "metadata": {},
   "source": [
    "<H4>Question 10: The Format Command</H4>\n",
    "    \n",
    "Tasks: Use the format command to process the following information in both examples below."
   ]
  },
  {
   "cell_type": "code",
   "execution_count": 57,
   "metadata": {
    "pycharm": {
     "is_executing": false
    }
   },
   "outputs": [
    {
     "name": "stdout",
     "text": [
      "The first number is 4 and the last number is 42\nThe person's first name is Jean-Luc and the person's last name is Picard.\nHis hometown is La Barre, France.\n"
     ],
     "output_type": "stream"
    }
   ],
   "source": [
    "## enter the appropriate commands in format so that the printed sentence includes the first and last number in the list data.\n",
    "data = [4, 8, 15, 16, 23, 42]\n",
    "print('The first number is {} and the last number is {}'.format(data[0],data[-1]))\n",
    "\n",
    "\n",
    "## Use the information in the dictionary person to construct the following sentence. \n",
    "## \"The person's first name is Jean-Luc and the person's last name is Picard. \n",
    "## His hometown is La Barre, France.\" The phrases \n",
    "##  'Jean-Luc', 'Picard', 'La Barre, France' should be accessed from the dictionary.\n",
    "person = {'first': 'Jean-Luc', \n",
    "          'last': 'Picard', \n",
    "          \"hometown\": 'La Barre, France' }\n",
    "print(\"\"\"The person's first name is {} and the person's last name is {}.\n",
    "His hometown is {}.\"\"\".format(person[\"first\"], person['last'], person[\"hometown\"]))\n"
   ]
  },
  {
   "cell_type": "code",
   "execution_count": 2,
   "metadata": {
    "pycharm": {
     "is_executing": false
    }
   },
   "outputs": [],
   "source": []
  }
 ],
 "metadata": {
  "kernelspec": {
   "display_name": "Python 3",
   "language": "python",
   "name": "python3"
  },
  "language_info": {
   "codemirror_mode": {
    "name": "ipython",
    "version": 3
   },
   "file_extension": ".py",
   "mimetype": "text/x-python",
   "name": "python",
   "nbconvert_exporter": "python",
   "pygments_lexer": "ipython3",
   "version": "3.7.3"
  },
  "pycharm": {
   "stem_cell": {
    "cell_type": "raw",
    "source": [],
    "metadata": {
     "collapsed": false
    }
   }
  }
 },
 "nbformat": 4,
 "nbformat_minor": 2
}
