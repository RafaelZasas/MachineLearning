{
 "cells": [
  {
   "cell_type": "markdown",
   "metadata": {
    "collapsed": true,
    "pycharm": {
     "name": "#%% md\n"
    }
   },
   "source": [
    "## Linear Vs. Logistic Regression\n"
   ]
  },
  {
   "cell_type": "markdown",
   "source": [
    "# Linear regression\n",
    "Linear Regression is a form of regression analysis best used to quantify \n",
    "relationships between points in a continuous dataset. It fits a straight line onto a dataset \n",
    "and attempts to minimize the distance between all the values and the best fit line in order \n",
    "to make predictions about possible future points. This implies that the accuracy of the prediction\n",
    "(hyperplane) is directly proportional to the spread of the data and is therefore most useful on data that\n",
    "is relatively uniform with few outliers.\n",
    "\n",
    "The equation used to describe Linear Regression is, <br>\n",
    "    $$ Y = bx + a$$ <br>\n",
    " Where <br>\n",
    " $$ a = \\frac {(\\sum y)(\\sum x^2)-(\\sum x)(\\sum xy)} {n(\\sum x^2)- (\\sum x)^2}$$ <br> \n",
    " and, <br>\n",
    " $$ b = \\frac {n(\\sum xy)-(\\sum x)(\\sum y)} {n(\\sum x^2)- (\\sum x)^2}$$ <br> \n",
    " \n",
    " Linear Regression can be applied to datasets with multiple features where the hyperplane is a subspace \n",
    " dimensionally equivalent to (features -1).\n",
    " \n",
    " This method is useful in predicting things like housing prices, crypto currency price trends and other\n",
    " continuous data.\n",
    "\n"
   ],
   "metadata": {
    "collapsed": false,
    "pycharm": {
     "name": "#%% md\n"
    }
   }
  },
  {
   "cell_type": "markdown",
   "source": [
    "# Logistic regression\n",
    "Logistic Regression is a form of regression analysis best used to quantify \n",
    "relationships between points in a discrete (categorical) dataset. Predicting discrete variables is useful in predicting\n",
    "binary outcomes. Is someone a potential customer or not, is an email spam or not, is something A or B?\n",
    "\n",
    "The input variables used to predict the dependant variable however can be either discrete or continuous \n",
    "however making it more useful than Linear Regression.\n",
    "It fits a straight line onto a dataset \n",
    "and attempts to minimize the distance between all the values and the best fit line in order \n",
    "to make predictions about possible future points. This implies that the accuracy of the prediction\n",
    "(hyperplane) is directly proportional to the spread of the data and is therefore most useful on data that\n",
    "is relatively uniform with few outliers.\n",
    "\n",
    "Logistic Regression uses a sigmoid function,  <br>\n",
    "    $$ Y = \\frac{1}{1+e^{-x}}$$ <br>\n",
    " Where <br>\n",
    " x = The variable you wish to transform  <br> \n",
    " and, <br>\n",
    " e = Euler's constant, 2.718\n",
    " \n",
    " The sigmoid function produces an S-shaped curve and maps it onto a numerical value between 0 and 1. \n",
    " Logistic regression assigns each data point to a discrete class. It also attempts to minimize the distance \n",
    " between each point and the hyperplane but also divides the data into classes using maximum \n",
    " likelihood estimation (MLE). The logistic hyperplane therefore acts as a classification boundary\n",
    " rather than a prediction line.\n",
    " Another difference is that in logistic regression the independent variable can be plotted along bth axes,\n",
    " and and the output of the dependant variable is determined by the position of the data point in relation\n",
    " to the hyperplane. \n",
    " \n",
    " This method is useful in predicting things like fraud detection, disease diagnosis,\n",
    " emergency detection, loan default detection or spam identification."
   ],
   "metadata": {
    "collapsed": false,
    "pycharm": {
     "name": "#%% md\n"
    }
   }
  }
 ],
 "metadata": {
  "kernelspec": {
   "display_name": "Python 3",
   "language": "python",
   "name": "python3"
  },
  "language_info": {
   "codemirror_mode": {
    "name": "ipython",
    "version": 2
   },
   "file_extension": ".py",
   "mimetype": "text/x-python",
   "name": "python",
   "nbconvert_exporter": "python",
   "pygments_lexer": "ipython2",
   "version": "2.7.6"
  },
  "pycharm": {
   "stem_cell": {
    "cell_type": "raw",
    "source": [],
    "metadata": {
     "collapsed": false
    }
   }
  }
 },
 "nbformat": 4,
 "nbformat_minor": 0
}
